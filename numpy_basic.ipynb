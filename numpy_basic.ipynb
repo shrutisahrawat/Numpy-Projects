{
 "cells": [
  {
   "cell_type": "markdown",
   "id": "6742327e-624b-4000-8e6d-7f2c53fbde1d",
   "metadata": {},
   "source": [
    "# Numpy Basic Operation"
   ]
  },
  {
   "cell_type": "markdown",
   "id": "a161dd99-26e9-4f7b-93b5-f16bb009a58e",
   "metadata": {},
   "source": [
    "3 main benefits of numpy array over a python list:\n",
    "1. Less Memory\n",
    "2. Fast Execution\n",
    "3. Convivnient"
   ]
  },
  {
   "cell_type": "markdown",
   "id": "700a1762-2ad8-47cc-93c5-acf4e313a357",
   "metadata": {},
   "source": [
    "# Less Memory:-"
   ]
  },
  {
   "cell_type": "code",
   "execution_count": 18,
   "id": "b1d90dea-f1f8-42bf-bf85-6576b2c15962",
   "metadata": {},
   "outputs": [
    {
     "name": "stdout",
     "output_type": "stream",
     "text": [
      "List Memory: 28000\n",
      "Numpy Array Memory: 4000\n"
     ]
    }
   ],
   "source": [
    "import numpy as np\n",
    "import sys\n",
    "\n",
    "li=range(1000)\n",
    "print(\"List Memory:\",sys.getsizeof(1)*len(li))\n",
    "\n",
    "arr=np.arange(1000)\n",
    "print(\"Numpy Array Memory:\",arr.size*arr.itemsize)\n",
    "\n"
   ]
  },
  {
   "cell_type": "markdown",
   "id": "92189e28-f858-493d-9ec7-8f8d2fae5020",
   "metadata": {},
   "source": [
    "[in case of list 1 element takes 28 bytes memory & in case of numpy array 1 element only takes 4 bytes memory]"
   ]
  },
  {
   "cell_type": "markdown",
   "id": "3bc38d4d-61ec-4299-98b5-5370e7b20786",
   "metadata": {},
   "source": [
    "# 2. Fast Execution:-"
   ]
  },
  {
   "cell_type": "code",
   "execution_count": 24,
   "id": "39aee141-4fc6-4127-931d-01f8c701e690",
   "metadata": {},
   "outputs": [
    {
     "name": "stdout",
     "output_type": "stream",
     "text": [
      "list execution time : 2731.6691875457764\n",
      "numpy array execution time: 280.7643413543701\n"
     ]
    }
   ],
   "source": [
    "import numpy as np\n",
    "import time\n",
    "size=10000000\n",
    "l1=range(size)\n",
    "l2=range(size)\n",
    "\n",
    "a1=np.arange(size)\n",
    "a2=np.arange(size)\n",
    "start=time.time()\n",
    "result=[x+y for x,y in zip(l1,l2)]\n",
    "print(\"list execution time :\",(time.time()-start)*1000)\n",
    "\n",
    "start=time.time()\n",
    "result=a1+a2\n",
    "print(\"numpy array execution time:\",(time.time()-start)*1000)\n"
   ]
  },
  {
   "cell_type": "markdown",
   "id": "454ec95b-c0df-44eb-b93a-b7aa8db9af11",
   "metadata": {},
   "source": [
    "[almost numpy array 10 times faster than python list]"
   ]
  },
  {
   "cell_type": "markdown",
   "id": "14fe6e36-0208-4c57-a73b-d2e91107093f",
   "metadata": {},
   "source": [
    "# 3. Convinient:-"
   ]
  },
  {
   "cell_type": "code",
   "execution_count": null,
   "id": "d3694e89-f031-4ce7-be97-c80c7df2f7dd",
   "metadata": {},
   "outputs": [],
   "source": [
    "l1=[2,3,4,5,6]\n",
    "l2=[7,8,9,10,11]"
   ]
  },
  {
   "cell_type": "markdown",
   "id": "d7aae78d-ad93-426a-98a8-ef9f4f3f2081",
   "metadata": {},
   "source": [
    "cannot perform mathematical oprns"
   ]
  },
  {
   "cell_type": "code",
   "execution_count": 30,
   "id": "77f3c594-c7ca-4114-bffc-8a969f472567",
   "metadata": {},
   "outputs": [
    {
     "data": {
      "text/plain": [
       "array([ 7,  9, 11, 13, 15])"
      ]
     },
     "execution_count": 30,
     "metadata": {},
     "output_type": "execute_result"
    }
   ],
   "source": [
    "import numpy as np\n",
    "a1=np.array([1,2,3,4,5])\n",
    "a2=np.array([6,7,8,9,10])\n",
    "a1+a2"
   ]
  },
  {
   "cell_type": "code",
   "execution_count": 39,
   "id": "aebe3b9f-9e42-494c-a0ed-87415f198682",
   "metadata": {},
   "outputs": [
    {
     "data": {
      "text/plain": [
       "array([ 6, 14, 24, 36, 50])"
      ]
     },
     "execution_count": 39,
     "metadata": {},
     "output_type": "execute_result"
    }
   ],
   "source": [
    "a1*a2"
   ]
  },
  {
   "cell_type": "markdown",
   "id": "467f7fe3-fe97-49a3-863d-022651ac9f63",
   "metadata": {},
   "source": [
    " whereas array can perform"
   ]
  },
  {
   "cell_type": "code",
   "execution_count": null,
   "id": "5e4e0f89-ce82-488a-96e0-4c614598e058",
   "metadata": {},
   "outputs": [],
   "source": []
  }
 ],
 "metadata": {
  "kernelspec": {
   "display_name": "Python 3 (ipykernel)",
   "language": "python",
   "name": "python3"
  },
  "language_info": {
   "codemirror_mode": {
    "name": "ipython",
    "version": 3
   },
   "file_extension": ".py",
   "mimetype": "text/x-python",
   "name": "python",
   "nbconvert_exporter": "python",
   "pygments_lexer": "ipython3",
   "version": "3.12.4"
  }
 },
 "nbformat": 4,
 "nbformat_minor": 5
}
