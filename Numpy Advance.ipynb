{
 "cells": [
  {
   "cell_type": "markdown",
   "id": "3e2b2685-ac13-4f6f-a9e2-ae7e14292a94",
   "metadata": {},
   "source": [
    "# Numpy Advance Operations:-"
   ]
  },
  {
   "cell_type": "markdown",
   "id": "889e555d-3c54-41e3-a487-b6e8189a725b",
   "metadata": {},
   "source": [
    "# Diff bw no copy & view copy/shallow copy:-"
   ]
  },
  {
   "cell_type": "code",
   "execution_count": 3,
   "id": "244b8767-f25a-44ca-b04f-9766cf5fc972",
   "metadata": {},
   "outputs": [],
   "source": [
    "import numpy as np\n"
   ]
  },
  {
   "cell_type": "code",
   "execution_count": 4,
   "id": "e6152f72-ce4b-4006-98eb-056c7d00d6ec",
   "metadata": {},
   "outputs": [
    {
     "data": {
      "text/plain": [
       "array([[2, 3],\n",
       "       [4, 5],\n",
       "       [6, 7]])"
      ]
     },
     "execution_count": 4,
     "metadata": {},
     "output_type": "execute_result"
    }
   ],
   "source": [
    "a=np.array([[2,3],[4,5],[6,7]])\n",
    "a\n"
   ]
  },
  {
   "cell_type": "code",
   "execution_count": 5,
   "id": "0ccd0ef0-a057-4958-8412-2ea1d9233af4",
   "metadata": {},
   "outputs": [
    {
     "data": {
      "text/plain": [
       "(3, 2)"
      ]
     },
     "execution_count": 5,
     "metadata": {},
     "output_type": "execute_result"
    }
   ],
   "source": [
    "a.shape"
   ]
  },
  {
   "cell_type": "code",
   "execution_count": 6,
   "id": "d8870ba4-0db8-46e5-a170-65e590d42e95",
   "metadata": {},
   "outputs": [],
   "source": [
    "b=a"
   ]
  },
  {
   "cell_type": "code",
   "execution_count": 7,
   "id": "4654b2d3-0023-4085-9cac-db179e5c3973",
   "metadata": {},
   "outputs": [
    {
     "name": "stdout",
     "output_type": "stream",
     "text": [
      "address of a= 1880767354064\n"
     ]
    }
   ],
   "source": [
    "print(\"address of a=\",id(a))"
   ]
  },
  {
   "cell_type": "code",
   "execution_count": 8,
   "id": "f41e7e7f-7e1f-40c2-93f4-ec6c27643c46",
   "metadata": {},
   "outputs": [
    {
     "name": "stdout",
     "output_type": "stream",
     "text": [
      "address of b= 1880767354064\n"
     ]
    }
   ],
   "source": [
    "print(\"address of b=\",id(b))"
   ]
  },
  {
   "cell_type": "markdown",
   "id": "7ebbf0f5-591b-4017-ae83-49bcb8b0be46",
   "metadata": {},
   "source": [
    "same memory address since value is same"
   ]
  },
  {
   "cell_type": "code",
   "execution_count": 10,
   "id": "7d846c2f-5f60-4767-b9c1-138a0312b3f2",
   "metadata": {},
   "outputs": [
    {
     "data": {
      "text/plain": [
       "array([[2, 3],\n",
       "       [4, 5],\n",
       "       [6, 7]])"
      ]
     },
     "execution_count": 10,
     "metadata": {},
     "output_type": "execute_result"
    }
   ],
   "source": [
    "b"
   ]
  },
  {
   "cell_type": "code",
   "execution_count": 11,
   "id": "2d3976ff-3242-4c21-b1e2-46041243b515",
   "metadata": {},
   "outputs": [
    {
     "data": {
      "text/plain": [
       "array([[2, 3, 4],\n",
       "       [5, 6, 7]])"
      ]
     },
     "execution_count": 11,
     "metadata": {},
     "output_type": "execute_result"
    }
   ],
   "source": [
    "b.resize(2,3)# permanent change in dim\n",
    "b"
   ]
  },
  {
   "cell_type": "code",
   "execution_count": 12,
   "id": "55aaadfe-776b-4de5-81a4-4f33ef873976",
   "metadata": {},
   "outputs": [
    {
     "data": {
      "text/plain": [
       "array([[2, 3, 4],\n",
       "       [5, 6, 7]])"
      ]
     },
     "execution_count": 12,
     "metadata": {},
     "output_type": "execute_result"
    }
   ],
   "source": [
    "a"
   ]
  },
  {
   "cell_type": "markdown",
   "id": "988f42ac-260e-4b7b-89bc-fd7a645354fe",
   "metadata": {},
   "source": [
    "if one changes other will also change since have same address this is called no copy"
   ]
  },
  {
   "cell_type": "markdown",
   "id": "a4ebf12f-f0df-404b-afd7-d6954f72765e",
   "metadata": {},
   "source": [
    "# view copy:-"
   ]
  },
  {
   "cell_type": "code",
   "execution_count": 15,
   "id": "b2046b88-70ef-4c4f-a8ed-ecba3d0fa2ff",
   "metadata": {},
   "outputs": [
    {
     "data": {
      "text/plain": [
       "array([[2, 3],\n",
       "       [4, 5],\n",
       "       [6, 7],\n",
       "       [8, 9]])"
      ]
     },
     "execution_count": 15,
     "metadata": {},
     "output_type": "execute_result"
    }
   ],
   "source": [
    "a=np.array([[2,3],[4,5],[6,7],[8,9]])\n",
    "a\n"
   ]
  },
  {
   "cell_type": "code",
   "execution_count": 16,
   "id": "0a587ed9-450e-4148-b83d-44ddaa49fae0",
   "metadata": {},
   "outputs": [
    {
     "data": {
      "text/plain": [
       "(4, 2)"
      ]
     },
     "execution_count": 16,
     "metadata": {},
     "output_type": "execute_result"
    }
   ],
   "source": [
    "a.shape"
   ]
  },
  {
   "cell_type": "code",
   "execution_count": 17,
   "id": "d2ee1486-d8ab-43f4-b681-0e07819aba4a",
   "metadata": {},
   "outputs": [],
   "source": [
    "b=a.view()"
   ]
  },
  {
   "cell_type": "code",
   "execution_count": 18,
   "id": "440cef70-62b3-4920-8042-7d8a1561fd24",
   "metadata": {},
   "outputs": [
    {
     "data": {
      "text/plain": [
       "array([[2, 3],\n",
       "       [4, 5],\n",
       "       [6, 7],\n",
       "       [8, 9]])"
      ]
     },
     "execution_count": 18,
     "metadata": {},
     "output_type": "execute_result"
    }
   ],
   "source": [
    "a"
   ]
  },
  {
   "cell_type": "code",
   "execution_count": 19,
   "id": "c6acdd4b-d0ba-44fa-b818-163085bd2405",
   "metadata": {},
   "outputs": [
    {
     "data": {
      "text/plain": [
       "array([[2, 3],\n",
       "       [4, 5],\n",
       "       [6, 7],\n",
       "       [8, 9]])"
      ]
     },
     "execution_count": 19,
     "metadata": {},
     "output_type": "execute_result"
    }
   ],
   "source": [
    "b"
   ]
  },
  {
   "cell_type": "markdown",
   "id": "bfb95ee5-74d1-42cf-abc5-281eb4b8b419",
   "metadata": {},
   "source": [
    "but using this view copy \n",
    "advantage is value will be same but address will be different "
   ]
  },
  {
   "cell_type": "code",
   "execution_count": 21,
   "id": "71b1fb30-4884-4ae6-85c8-7471aee060f1",
   "metadata": {},
   "outputs": [
    {
     "name": "stdout",
     "output_type": "stream",
     "text": [
      "address of a= 1881160973264\n"
     ]
    }
   ],
   "source": [
    "print(\"address of a=\",id(a)) "
   ]
  },
  {
   "cell_type": "code",
   "execution_count": 22,
   "id": "8b3ea577-50e5-481a-ae0c-bcf70d7a11a8",
   "metadata": {},
   "outputs": [
    {
     "name": "stdout",
     "output_type": "stream",
     "text": [
      "address of b= 1881160973936\n"
     ]
    }
   ],
   "source": [
    "print(\"address of b=\",id(b)) "
   ]
  },
  {
   "cell_type": "code",
   "execution_count": 23,
   "id": "c77c60b5-33cf-41c9-a047-22e288209adf",
   "metadata": {},
   "outputs": [
    {
     "data": {
      "text/plain": [
       "array([[2, 3, 4, 5],\n",
       "       [6, 7, 8, 9]])"
      ]
     },
     "execution_count": 23,
     "metadata": {},
     "output_type": "execute_result"
    }
   ],
   "source": [
    "b.resize(2,4)\n",
    "b"
   ]
  },
  {
   "cell_type": "code",
   "execution_count": 24,
   "id": "a4519a44-7d47-4401-aee5-f0c83b9c1d60",
   "metadata": {},
   "outputs": [
    {
     "data": {
      "text/plain": [
       "array([[2, 3],\n",
       "       [4, 5],\n",
       "       [6, 7],\n",
       "       [8, 9]])"
      ]
     },
     "execution_count": 24,
     "metadata": {},
     "output_type": "execute_result"
    }
   ],
   "source": [
    "a"
   ]
  },
  {
   "cell_type": "markdown",
   "id": "989cb576-f0a6-44f3-b128-5cacad5684d3",
   "metadata": {},
   "source": [
    "hence no updation in a on changing b"
   ]
  },
  {
   "cell_type": "markdown",
   "id": "df2eb745-ffaa-4c2d-aa43-2ce93be9605e",
   "metadata": {},
   "source": [
    "# i/o Operations in Numpy Array:-"
   ]
  },
  {
   "cell_type": "markdown",
   "id": "55994e74-c5b5-47b5-8516-88342265c73e",
   "metadata": {},
   "source": [
    "1 .load():-to read binary file data\n",
    "\n",
    "2 .save():-to write binary file data\n",
    "\n",
    "\n",
    "3 .loadtxt():-to read text file data\n",
    "\n",
    "4 .savetxt():-to write text file data\n",
    "\n",
    ".npy[binary file extn]\n",
    "\n",
    ".txt[text file extn]"
   ]
  },
  {
   "cell_type": "raw",
   "id": "6557926d-59f5-4961-8d6f-fdf4749ec7b7",
   "metadata": {},
   "source": [
    "import numpy as np"
   ]
  },
  {
   "cell_type": "code",
   "execution_count": 28,
   "id": "cfc9a374-6fe5-4e02-bf0a-a36237337391",
   "metadata": {},
   "outputs": [
    {
     "data": {
      "text/plain": [
       "array([[2, 3, 4],\n",
       "       [5, 6, 7],\n",
       "       [8, 9, 1]])"
      ]
     },
     "execution_count": 28,
     "metadata": {},
     "output_type": "execute_result"
    }
   ],
   "source": [
    "arr=np.array([[2,3,4],[5,6,7],[8,9,1]])\n",
    "arr"
   ]
  },
  {
   "cell_type": "code",
   "execution_count": 29,
   "id": "b59c94c7-7d7a-4251-938f-208fe485579f",
   "metadata": {},
   "outputs": [],
   "source": [
    "np.save(\"sample\",arr)# bydefault take bin file with extn"
   ]
  },
  {
   "cell_type": "code",
   "execution_count": 30,
   "id": "8e47d7ce-639a-4e36-9dcd-2e3526f39307",
   "metadata": {},
   "outputs": [
    {
     "data": {
      "text/plain": [
       "array([[2, 3, 4],\n",
       "       [5, 6, 7],\n",
       "       [8, 9, 1]])"
      ]
     },
     "execution_count": 30,
     "metadata": {},
     "output_type": "execute_result"
    }
   ],
   "source": [
    "np.load(\"sample.npy\")"
   ]
  },
  {
   "cell_type": "code",
   "execution_count": 31,
   "id": "2b0731a5-e87e-44ac-9262-be263c9e3952",
   "metadata": {},
   "outputs": [
    {
     "data": {
      "text/plain": [
       "array([[2, 3, 4],\n",
       "       [5, 6, 7],\n",
       "       [8, 9, 1]])"
      ]
     },
     "execution_count": 31,
     "metadata": {},
     "output_type": "execute_result"
    }
   ],
   "source": [
    "arr"
   ]
  },
  {
   "cell_type": "code",
   "execution_count": 32,
   "id": "c2f21531-833f-4341-b27c-83db32270dad",
   "metadata": {},
   "outputs": [],
   "source": [
    "np.savetxt(\"sample.txt\",arr)# with extn"
   ]
  },
  {
   "cell_type": "code",
   "execution_count": 33,
   "id": "e967f8d8-5a8f-4001-90a8-d9ba6356efa9",
   "metadata": {},
   "outputs": [],
   "source": [
    "import warnings\n",
    "warnings.filterwarnings('ignore')"
   ]
  },
  {
   "cell_type": "code",
   "execution_count": 34,
   "id": "0fd35f7f-5541-4d20-bb4a-135ba1c8c31f",
   "metadata": {},
   "outputs": [
    {
     "data": {
      "text/plain": [
       "array([[2, 3, 4],\n",
       "       [5, 6, 7],\n",
       "       [8, 9, 1]])"
      ]
     },
     "execution_count": 34,
     "metadata": {},
     "output_type": "execute_result"
    }
   ],
   "source": [
    "np.loadtxt(\"sample.txt\",dtype=np.int32) # by default generates float "
   ]
  },
  {
   "cell_type": "markdown",
   "id": "7d9b1dd8-9848-4374-a7ef-5e87bcbced0d",
   "metadata": {},
   "source": [
    " this way our data can be stored in file no need to run again nd again"
   ]
  },
  {
   "cell_type": "code",
   "execution_count": 36,
   "id": "14b8a5a7-6456-493b-a08f-3f86138ebabc",
   "metadata": {},
   "outputs": [],
   "source": [
    "x,y=np.loadtxt(\"interviw_ques.txt\",dtype=\"int32\",delimiter=',',unpack=True) #bydefault unpack holds false it transposes"
   ]
  },
  {
   "cell_type": "code",
   "execution_count": 37,
   "id": "c8f770eb-f0ff-4a91-9160-270b25c49809",
   "metadata": {},
   "outputs": [
    {
     "data": {
      "text/plain": [
       "array([ 1,  2,  3,  4,  5,  6,  7,  8,  9, 10])"
      ]
     },
     "execution_count": 37,
     "metadata": {},
     "output_type": "execute_result"
    }
   ],
   "source": [
    "x"
   ]
  },
  {
   "cell_type": "code",
   "execution_count": 38,
   "id": "9e1dd7da-3bbb-4565-9a8c-81c85ea3fc73",
   "metadata": {},
   "outputs": [
    {
     "data": {
      "text/plain": [
       "array([ 4,  5,  6,  1,  9,  0, -5,  3,  2,  9])"
      ]
     },
     "execution_count": 38,
     "metadata": {},
     "output_type": "execute_result"
    }
   ],
   "source": [
    "y"
   ]
  },
  {
   "cell_type": "code",
   "execution_count": 39,
   "id": "59093fec-14b2-42f2-b848-227681bd727b",
   "metadata": {},
   "outputs": [],
   "source": [
    "import matplotlib.pyplot as plt"
   ]
  },
  {
   "cell_type": "code",
   "execution_count": 40,
   "id": "8a7bcf06-90dc-4ce8-86ac-71627c6f41d0",
   "metadata": {},
   "outputs": [
    {
     "data": {
      "image/png": "[encoded data removed]",
      "text/plain": [
       "<Figure size 640x480 with 1 Axes>"
      ]
     },
     "metadata": {},
     "output_type": "display_data"
    }
   ],
   "source": [
    "plt.plot(x,y)\n",
    "plt.title(\"Data Plot\")\n",
    "plt.savefig(\"Data.pdf\")\n",
    "plt.show()"
   ]
  },
  {
   "cell_type": "code",
   "execution_count": null,
   "id": "de57512b-eae7-4da8-b4ad-9842dc79cff5",
   "metadata": {},
   "outputs": [],
   "source": []
  }
 ],
 "metadata": {
  "kernelspec": {
   "display_name": "Python 3 (ipykernel)",
   "language": "python",
   "name": "python3"
  },
  "language_info": {
   "codemirror_mode": {
    "name": "ipython",
    "version": 3
   },
   "file_extension": ".py",
   "mimetype": "text/x-python",
   "name": "python",
   "nbconvert_exporter": "python",
   "pygments_lexer": "ipython3",
   "version": "3.12.4"
  }
 },
 "nbformat": 4,
 "nbformat_minor": 5
}
