{
 "cells": [
  {
   "cell_type": "markdown",
   "id": "b9908b58-d787-4fda-86ac-90cbfd486e07",
   "metadata": {},
   "source": [
    "Pandas is an open source python library providing a data analysis with powerful data structures:\n",
    "data structures : \n",
    "series-1 d labelled array\n",
    "dataframe-2d labelled array\n",
    "\n",
    "Syntax of series:\n",
    "pandas.Series(data,index,dtype)\n",
    "series can be created using various inputs like:\n",
    "1. array format\n",
    "2. dictionary format\n",
    "3. scalar value or constant format"
   ]
  },
  {
   "cell_type": "markdown",
   "id": "3c9ea323-9e8c-4448-9113-f66c58e10dde",
   "metadata": {},
   "source": [
    "# Pandas Series Creation:-"
   ]
  },
  {
   "cell_type": "code",
   "execution_count": 154,
   "id": "b02882c3-9b4c-4163-a026-79a0efbfd300",
   "metadata": {},
   "outputs": [],
   "source": [
    "import pandas as pd\n",
    "import numpy as np\n",
    "import matplotlib.pyplot as plt"
   ]
  },
  {
   "cell_type": "code",
   "execution_count": 155,
   "id": "2dabfe1d-7fc7-4b71-aeee-4d7f5f1b4b8f",
   "metadata": {},
   "outputs": [
    {
     "data": {
      "text/plain": [
       "'2.2.2'"
      ]
     },
     "execution_count": 155,
     "metadata": {},
     "output_type": "execute_result"
    }
   ],
   "source": [
    "pd.__version__"
   ]
  },
  {
   "cell_type": "markdown",
   "id": "81a3d8ee-7377-4dad-892e-467fbbaaa5f7",
   "metadata": {},
   "source": [
    "# 1.  Series Creation Using Numpy Array :-"
   ]
  },
  {
   "cell_type": "code",
   "execution_count": 157,
   "id": "f16dbb41-2a47-40d4-a3c8-acd0d71d753c",
   "metadata": {},
   "outputs": [
    {
     "data": {
      "text/plain": [
       "array([2, 3, 4, 5, 6, 7, 8], dtype=int64)"
      ]
     },
     "execution_count": 157,
     "metadata": {},
     "output_type": "execute_result"
    }
   ],
   "source": [
    "data=np.array([2,3,4,5,6,7,8],dtype=np.int64)\n",
    "data"
   ]
  },
  {
   "cell_type": "code",
   "execution_count": 158,
   "id": "1af9b5ae-4c69-4d21-ad80-2ac5a7ef3ee8",
   "metadata": {},
   "outputs": [
    {
     "data": {
      "text/plain": [
       "numpy.ndarray"
      ]
     },
     "execution_count": 158,
     "metadata": {},
     "output_type": "execute_result"
    }
   ],
   "source": [
    "type(data)"
   ]
  },
  {
   "cell_type": "code",
   "execution_count": 159,
   "id": "92453a7e-3720-4c51-8f3d-1f42088e27c0",
   "metadata": {},
   "outputs": [
    {
     "data": {
      "text/plain": [
       "1"
      ]
     },
     "execution_count": 159,
     "metadata": {},
     "output_type": "execute_result"
    }
   ],
   "source": [
    "data.ndim"
   ]
  },
  {
   "cell_type": "code",
   "execution_count": 160,
   "id": "efea5068-aa6b-453a-8ca8-9c511a7aa2c0",
   "metadata": {},
   "outputs": [
    {
     "data": {
      "text/plain": [
       "0    2\n",
       "1    3\n",
       "2    4\n",
       "3    5\n",
       "4    6\n",
       "5    7\n",
       "6    8\n",
       "dtype: int64"
      ]
     },
     "execution_count": 160,
     "metadata": {},
     "output_type": "execute_result"
    }
   ],
   "source": [
    "s1=pd.Series(data)\n",
    "s1"
   ]
  },
  {
   "cell_type": "code",
   "execution_count": 161,
   "id": "602fa5b9-5e60-4e29-9c81-cf486a18cc41",
   "metadata": {},
   "outputs": [
    {
     "data": {
      "text/plain": [
       "pandas.core.series.Series"
      ]
     },
     "execution_count": 161,
     "metadata": {},
     "output_type": "execute_result"
    }
   ],
   "source": [
    "type(s1)"
   ]
  },
  {
   "cell_type": "code",
   "execution_count": 162,
   "id": "75e36bfe-0da5-4303-99a4-45b4e0f1d667",
   "metadata": {},
   "outputs": [
    {
     "data": {
      "text/plain": [
       "a    2.0\n",
       "b    3.0\n",
       "c    4.0\n",
       "d    5.0\n",
       "e    6.0\n",
       "f    7.0\n",
       "g    8.0\n",
       "dtype: float64"
      ]
     },
     "execution_count": 162,
     "metadata": {},
     "output_type": "execute_result"
    }
   ],
   "source": [
    "s1=pd.Series(data,index=list('abcdefg'),dtype=float)# to give index manually ie labelled indexing which is not present in numpy 1D\n",
    "s1"
   ]
  },
  {
   "cell_type": "code",
   "execution_count": 163,
   "id": "f9a264d7-c858-4ceb-9758-cf1fdfa8cdae",
   "metadata": {},
   "outputs": [
    {
     "data": {
      "text/plain": [
       "dtype('float64')"
      ]
     },
     "execution_count": 163,
     "metadata": {},
     "output_type": "execute_result"
    }
   ],
   "source": [
    "s1.dtypes"
   ]
  },
  {
   "cell_type": "markdown",
   "id": "b75fd872-24ce-4a95-8b87-8e38786f876c",
   "metadata": {},
   "source": [
    "# indexing amd slicing in Series:-"
   ]
  },
  {
   "cell_type": "code",
   "execution_count": 165,
   "id": "6ef005a5-df09-4867-bcd2-277b2b59268c",
   "metadata": {},
   "outputs": [
    {
     "data": {
      "text/plain": [
       "a    2.0\n",
       "b    3.0\n",
       "c    4.0\n",
       "d    5.0\n",
       "e    6.0\n",
       "f    7.0\n",
       "g    8.0\n",
       "dtype: float64"
      ]
     },
     "execution_count": 165,
     "metadata": {},
     "output_type": "execute_result"
    }
   ],
   "source": [
    "s1"
   ]
  },
  {
   "cell_type": "code",
   "execution_count": 166,
   "id": "52ffa23d-8d80-4972-8c0b-3715c1e44597",
   "metadata": {},
   "outputs": [
    {
     "data": {
      "text/plain": [
       "5.0"
      ]
     },
     "execution_count": 166,
     "metadata": {},
     "output_type": "execute_result"
    }
   ],
   "source": [
    "s1['d']"
   ]
  },
  {
   "cell_type": "code",
   "execution_count": 167,
   "id": "b29ca5bb-3211-40cd-9ad6-a1a399dfd6a1",
   "metadata": {},
   "outputs": [
    {
     "data": {
      "text/plain": [
       "(5.0, 5.0)"
      ]
     },
     "execution_count": 167,
     "metadata": {},
     "output_type": "execute_result"
    }
   ],
   "source": [
    "s1['d'], s1.iloc[3]# integer location ie to access positonal indexing directly use iloc to avoid warning"
   ]
  },
  {
   "cell_type": "code",
   "execution_count": 168,
   "id": "b4355565-f137-4a30-9328-434e3ee9401c",
   "metadata": {},
   "outputs": [
    {
     "data": {
      "text/plain": [
       "c    4.0\n",
       "f    7.0\n",
       "dtype: float64"
      ]
     },
     "execution_count": 168,
     "metadata": {},
     "output_type": "execute_result"
    }
   ],
   "source": [
    "s1.iloc[[2,5]]# to show data with index in vertical format use this synatax"
   ]
  },
  {
   "cell_type": "code",
   "execution_count": 169,
   "id": "bf6f1be3-0ef0-4e38-accd-a6fa69ed63c2",
   "metadata": {},
   "outputs": [
    {
     "data": {
      "text/plain": [
       "g    8.0\n",
       "d    5.0\n",
       "a    2.0\n",
       "dtype: float64"
      ]
     },
     "execution_count": 169,
     "metadata": {},
     "output_type": "execute_result"
    }
   ],
   "source": [
    "s1.iloc[[-1,-4,-7]]"
   ]
  },
  {
   "cell_type": "code",
   "execution_count": 170,
   "id": "88684fb3-caf1-4478-b3c6-6536477d994e",
   "metadata": {},
   "outputs": [
    {
     "data": {
      "text/plain": [
       "a    2.0\n",
       "c    4.0\n",
       "f    7.0\n",
       "dtype: float64"
      ]
     },
     "execution_count": 170,
     "metadata": {},
     "output_type": "execute_result"
    }
   ],
   "source": [
    "s1[['a','c','f']]# in labelled indexing or manual indexing no use of iloc"
   ]
  },
  {
   "cell_type": "code",
   "execution_count": 171,
   "id": "e13dd611-c00f-4dc5-ad5f-dffcd23235de",
   "metadata": {},
   "outputs": [
    {
     "data": {
      "text/plain": [
       "g    8.0\n",
       "e    6.0\n",
       "c    4.0\n",
       "a    2.0\n",
       "dtype: float64"
      ]
     },
     "execution_count": 171,
     "metadata": {},
     "output_type": "execute_result"
    }
   ],
   "source": [
    "s1.iloc[::-2]"
   ]
  },
  {
   "cell_type": "code",
   "execution_count": 172,
   "id": "ec02d2b2-77fb-4173-a653-afd9bbfd4fa9",
   "metadata": {},
   "outputs": [
    {
     "data": {
      "text/plain": [
       "e    6.0\n",
       "d    5.0\n",
       "c    4.0\n",
       "b    3.0\n",
       "dtype: float64"
      ]
     },
     "execution_count": 172,
     "metadata": {},
     "output_type": "execute_result"
    }
   ],
   "source": [
    "s1.iloc[4:0:-1]"
   ]
  },
  {
   "cell_type": "markdown",
   "id": "eed3a353-2318-4deb-8ec4-19c9a167b6ae",
   "metadata": {},
   "source": [
    "# Series Creation using List:-"
   ]
  },
  {
   "cell_type": "code",
   "execution_count": 174,
   "id": "a44e5b2b-cf58-4690-8b68-38ebadf4c0be",
   "metadata": {},
   "outputs": [
    {
     "data": {
      "text/plain": [
       "0        Drama\n",
       "1       Comedy\n",
       "2        Drama\n",
       "3       Action\n",
       "4       Comedy\n",
       "5        Drama\n",
       "6    Adventure\n",
       "7       Action\n",
       "8        Drama\n",
       "9       Comedy\n",
       "dtype: object"
      ]
     },
     "execution_count": 174,
     "metadata": {},
     "output_type": "execute_result"
    }
   ],
   "source": [
    "s1=pd.Series(['Drama','Comedy','Drama','Action','Comedy','Drama','Adventure','Action','Drama','Comedy'])\n",
    "s1"
   ]
  },
  {
   "cell_type": "code",
   "execution_count": 175,
   "id": "de0c9078-d234-4e8b-b8a9-6c85ebe6920d",
   "metadata": {},
   "outputs": [
    {
     "data": {
      "text/plain": [
       "dtype('O')"
      ]
     },
     "execution_count": 175,
     "metadata": {},
     "output_type": "execute_result"
    }
   ],
   "source": [
    "s1.dtypes# in pandas use dtypes"
   ]
  },
  {
   "cell_type": "markdown",
   "id": "f4d50389-e7f5-4613-9405-eb77a9e201b0",
   "metadata": {},
   "source": [
    "O-(Object or string type)"
   ]
  },
  {
   "cell_type": "code",
   "execution_count": 177,
   "id": "703c946a-f447-4a20-b629-4a9cfff2bd5c",
   "metadata": {},
   "outputs": [
    {
     "data": {
      "text/plain": [
       "Drama        4\n",
       "Comedy       3\n",
       "Action       2\n",
       "Adventure    1\n",
       "Name: count, dtype: int64"
      ]
     },
     "execution_count": 177,
     "metadata": {},
     "output_type": "execute_result"
    }
   ],
   "source": [
    "s1.value_counts()# counts no of data items repeated in series in desc order"
   ]
  },
  {
   "cell_type": "code",
   "execution_count": 178,
   "id": "13862847-ab9a-4671-86b9-48159e53858b",
   "metadata": {},
   "outputs": [
    {
     "data": {
      "text/plain": [
       "Drama     4\n",
       "Comedy    3\n",
       "Action    2\n",
       "Name: count, dtype: int64"
      ]
     },
     "execution_count": 178,
     "metadata": {},
     "output_type": "execute_result"
    }
   ],
   "source": [
    "s1.value_counts()[:3]# to show top 3 movies"
   ]
  },
  {
   "cell_type": "code",
   "execution_count": 179,
   "id": "c539cfc3-905d-4a50-81f1-0a1bf7513ad5",
   "metadata": {},
   "outputs": [
    {
     "data": {
      "text/plain": [
       "Text(0.5, 1.0, 'Top 3 Movies')"
      ]
     },
     "execution_count": 179,
     "metadata": {},
     "output_type": "execute_result"
    },
    {
     "data": {
      "image/png": "[encoded data removed]",
      "text/plain": [
       "<Figure size 640x480 with 1 Axes>"
      ]
     },
     "metadata": {},
     "output_type": "display_data"
    }
   ],
   "source": [
    "s1.value_counts()[:3].plot(kind='bar',cmap='winter')# cmap shows color spring,summer,winter,autumn\n",
    "plt.show\n",
    "plt.title('Top 3 Movies')"
   ]
  },
  {
   "cell_type": "markdown",
   "id": "a7558ede-0145-46ee-8e61-3ca0d6cec2e3",
   "metadata": {},
   "source": [
    "barh shows horizontal chart\n",
    "bar by default takes vertical"
   ]
  },
  {
   "cell_type": "markdown",
   "id": "dc394ab7-0ee7-4851-869b-386dc2f00ef4",
   "metadata": {},
   "source": [
    "# 2. Series Creation Using Scalar value or constant format"
   ]
  },
  {
   "cell_type": "code",
   "execution_count": 182,
   "id": "85aaebca-4555-4f13-8f94-e48c809dbcfd",
   "metadata": {},
   "outputs": [
    {
     "data": {
      "text/plain": [
       "0    5\n",
       "1    5\n",
       "2    5\n",
       "3    5\n",
       "4    5\n",
       "5    5\n",
       "dtype: int64"
      ]
     },
     "execution_count": 182,
     "metadata": {},
     "output_type": "execute_result"
    }
   ],
   "source": [
    "s1=pd.Series(5,index=[0,1,2,3,4,5])\n",
    "s1"
   ]
  },
  {
   "cell_type": "code",
   "execution_count": 183,
   "id": "96cc12b4-41de-4aac-a8c4-fc025914d62c",
   "metadata": {},
   "outputs": [
    {
     "data": {
      "text/plain": [
       "dtype('int64')"
      ]
     },
     "execution_count": 183,
     "metadata": {},
     "output_type": "execute_result"
    }
   ],
   "source": [
    "s1.dtypes"
   ]
  },
  {
   "cell_type": "code",
   "execution_count": 184,
   "id": "12e3305a-5bd3-4d7d-a107-af21cccd2079",
   "metadata": {},
   "outputs": [
    {
     "data": {
      "text/plain": [
       "(6,)"
      ]
     },
     "execution_count": 184,
     "metadata": {},
     "output_type": "execute_result"
    }
   ],
   "source": [
    "s1.shape"
   ]
  },
  {
   "cell_type": "code",
   "execution_count": 185,
   "id": "34bd90a5-e846-4a26-9d69-8c9bc4e0e07c",
   "metadata": {},
   "outputs": [
    {
     "data": {
      "text/plain": [
       "0     1\n",
       "1     1\n",
       "2     1\n",
       "3     1\n",
       "4     1\n",
       "5     1\n",
       "6     1\n",
       "7     1\n",
       "8     1\n",
       "9     1\n",
       "10    1\n",
       "11    1\n",
       "12    1\n",
       "13    1\n",
       "14    1\n",
       "15    1\n",
       "16    1\n",
       "17    1\n",
       "18    1\n",
       "19    1\n",
       "dtype: int64"
      ]
     },
     "execution_count": 185,
     "metadata": {},
     "output_type": "execute_result"
    }
   ],
   "source": [
    "s1=pd.Series(1,index=range(20))\n",
    "s1"
   ]
  },
  {
   "cell_type": "code",
   "execution_count": 186,
   "id": "5370bf17-92cb-4c6f-8aa9-74a8cdd289e9",
   "metadata": {},
   "outputs": [
    {
     "data": {
      "text/plain": [
       "0     1\n",
       "1     4\n",
       "2     7\n",
       "3    10\n",
       "4    13\n",
       "5    16\n",
       "6    19\n",
       "dtype: int64"
      ]
     },
     "execution_count": 186,
     "metadata": {},
     "output_type": "execute_result"
    }
   ],
   "source": [
    "s1=pd.Series(range(1,21,3))\n",
    "s1"
   ]
  },
  {
   "cell_type": "markdown",
   "id": "0578857e-eed5-463b-bc1a-59e66d3eb461",
   "metadata": {},
   "source": [
    "# 3. Series Creation using Dictionary:-"
   ]
  },
  {
   "cell_type": "code",
   "execution_count": 188,
   "id": "3dae1c70-53e9-4f40-babb-f6234a447a2a",
   "metadata": {},
   "outputs": [
    {
     "data": {
      "text/plain": [
       "{'a': 10, 'b': 20, 'c': 30, 'd': 40}"
      ]
     },
     "execution_count": 188,
     "metadata": {},
     "output_type": "execute_result"
    }
   ],
   "source": [
    "data={'a':10,'b':20,'c':30,'d':40}\n",
    "data"
   ]
  },
  {
   "cell_type": "code",
   "execution_count": 189,
   "id": "15dd34f2-b580-4622-b9e2-a5928f9e5f51",
   "metadata": {},
   "outputs": [
    {
     "data": {
      "text/plain": [
       "dict"
      ]
     },
     "execution_count": 189,
     "metadata": {},
     "output_type": "execute_result"
    }
   ],
   "source": [
    "type(data)"
   ]
  },
  {
   "cell_type": "code",
   "execution_count": 190,
   "id": "2386a3c1-530b-40de-9f2b-c60335f3094d",
   "metadata": {},
   "outputs": [
    {
     "data": {
      "text/plain": [
       "a    10\n",
       "b    20\n",
       "c    30\n",
       "d    40\n",
       "dtype: int64"
      ]
     },
     "execution_count": 190,
     "metadata": {},
     "output_type": "execute_result"
    }
   ],
   "source": [
    "s1=pd.Series(data)# will take keys as labelled index\n",
    "s1"
   ]
  },
  {
   "cell_type": "code",
   "execution_count": 191,
   "id": "964c7f98-d3b9-4f8a-8ee7-2e0d2766f5d6",
   "metadata": {},
   "outputs": [
    {
     "data": {
      "text/plain": [
       "pandas.core.series.Series"
      ]
     },
     "execution_count": 191,
     "metadata": {},
     "output_type": "execute_result"
    }
   ],
   "source": [
    "type(s1)"
   ]
  },
  {
   "cell_type": "code",
   "execution_count": 192,
   "id": "4a6a561b-0198-43cd-bd91-b3772a7a36be",
   "metadata": {},
   "outputs": [
    {
     "data": {
      "text/plain": [
       "{'a': 10, 'b': 20, 'c': 30, 'd': 40}"
      ]
     },
     "execution_count": 192,
     "metadata": {},
     "output_type": "execute_result"
    }
   ],
   "source": [
    "data={'a':10,'b':20,'c':30,'d':40}\n",
    "data"
   ]
  },
  {
   "cell_type": "code",
   "execution_count": 193,
   "id": "14abef68-aabd-4742-a19d-ebd1a5b11a87",
   "metadata": {},
   "outputs": [
    {
     "data": {
      "text/plain": [
       "b    20.0\n",
       "d    40.0\n",
       "c    30.0\n",
       "e     NaN\n",
       "dtype: float64"
      ]
     },
     "execution_count": 193,
     "metadata": {},
     "output_type": "execute_result"
    }
   ],
   "source": [
    "s1=pd.Series(data,index=['b','d','c','e'])\n",
    "s1"
   ]
  },
  {
   "cell_type": "markdown",
   "id": "ad82de5e-81a7-4382-b8fb-b67be8d0b6e6",
   "metadata": {},
   "source": [
    "Matches given index with key index and only retrive those values otherwise give none such as in case of e where e doesnt match with a"
   ]
  },
  {
   "cell_type": "markdown",
   "id": "017bdd09-baf3-42b2-8ff1-683f304c34d3",
   "metadata": {},
   "source": [
    "Due to one Blank data it gives float data type and even dont work with changing dtype to int"
   ]
  },
  {
   "cell_type": "code",
   "execution_count": 196,
   "id": "1dd48b08-db33-462b-86a0-4501d567cbdf",
   "metadata": {},
   "outputs": [
    {
     "data": {
      "text/plain": [
       "b    20\n",
       "d    40\n",
       "c    30\n",
       "a    10\n",
       "dtype: int64"
      ]
     },
     "execution_count": 196,
     "metadata": {},
     "output_type": "execute_result"
    }
   ],
   "source": [
    "s1=pd.Series(data,index=['b','d','c','a'])\n",
    "s1"
   ]
  },
  {
   "cell_type": "markdown",
   "id": "aa30a1af-d33c-4f92-a314-c8ec53c097f8",
   "metadata": {},
   "source": [
    "# How To Convert Series To List Numpy Array & Dictionary"
   ]
  },
  {
   "cell_type": "code",
   "execution_count": 198,
   "id": "43f489df-5026-4d66-bb34-25decafcb725",
   "metadata": {},
   "outputs": [
    {
     "data": {
      "text/plain": [
       "a    3.0\n",
       "b    6.0\n",
       "c    7.0\n",
       "d    2.0\n",
       "e    8.0\n",
       "dtype: float64"
      ]
     },
     "execution_count": 198,
     "metadata": {},
     "output_type": "execute_result"
    }
   ],
   "source": [
    "s1=pd.Series([3,6,7,2,8],index=list('abcde'),dtype=float)\n",
    "s1"
   ]
  },
  {
   "cell_type": "code",
   "execution_count": 199,
   "id": "61b03d53-5469-4916-b387-fb0e070ca6c5",
   "metadata": {},
   "outputs": [
    {
     "data": {
      "text/plain": [
       "pandas.core.series.Series"
      ]
     },
     "execution_count": 199,
     "metadata": {},
     "output_type": "execute_result"
    }
   ],
   "source": [
    "type(s1)"
   ]
  },
  {
   "cell_type": "code",
   "execution_count": 200,
   "id": "4857738a-6328-45ef-bc6f-fac7c5b7e5f3",
   "metadata": {},
   "outputs": [
    {
     "data": {
      "text/plain": [
       "[3.0, 6.0, 7.0, 2.0, 8.0]"
      ]
     },
     "execution_count": 200,
     "metadata": {},
     "output_type": "execute_result"
    }
   ],
   "source": [
    "l1=pd.Series.tolist(s1)\n",
    "l1"
   ]
  },
  {
   "cell_type": "code",
   "execution_count": 201,
   "id": "41fce37d-bf6c-42b9-b8e7-5e681ce36106",
   "metadata": {},
   "outputs": [
    {
     "data": {
      "text/plain": [
       "list"
      ]
     },
     "execution_count": 201,
     "metadata": {},
     "output_type": "execute_result"
    }
   ],
   "source": [
    "type(l1)"
   ]
  },
  {
   "cell_type": "code",
   "execution_count": 202,
   "id": "ee279856-946b-41d9-81f7-dc345578e95f",
   "metadata": {},
   "outputs": [
    {
     "data": {
      "text/plain": [
       "a    3.0\n",
       "b    6.0\n",
       "c    7.0\n",
       "d    2.0\n",
       "e    8.0\n",
       "dtype: float64"
      ]
     },
     "execution_count": 202,
     "metadata": {},
     "output_type": "execute_result"
    }
   ],
   "source": [
    "s1"
   ]
  },
  {
   "cell_type": "code",
   "execution_count": 203,
   "id": "333551ca-0bb8-4326-9282-e979152c4f1e",
   "metadata": {},
   "outputs": [
    {
     "data": {
      "text/plain": [
       "array([3., 6., 7., 2., 8.])"
      ]
     },
     "execution_count": 203,
     "metadata": {},
     "output_type": "execute_result"
    }
   ],
   "source": [
    "arr=s1.values\n",
    "arr"
   ]
  },
  {
   "cell_type": "code",
   "execution_count": 204,
   "id": "42c87759-b647-49dc-b91e-624a491f22b3",
   "metadata": {},
   "outputs": [
    {
     "data": {
      "text/plain": [
       "numpy.ndarray"
      ]
     },
     "execution_count": 204,
     "metadata": {},
     "output_type": "execute_result"
    }
   ],
   "source": [
    "type(arr)"
   ]
  },
  {
   "cell_type": "code",
   "execution_count": 205,
   "id": "c71e6ad6-ee66-40a9-a9cc-d1e5aef6ae9a",
   "metadata": {},
   "outputs": [
    {
     "data": {
      "text/plain": [
       "{'a': 3.0, 'b': 6.0, 'c': 7.0, 'd': 2.0, 'e': 8.0}"
      ]
     },
     "execution_count": 205,
     "metadata": {},
     "output_type": "execute_result"
    }
   ],
   "source": [
    "dic=s1.to_dict()\n",
    "dic"
   ]
  },
  {
   "cell_type": "code",
   "execution_count": 206,
   "id": "09b20d4f-6e77-479e-bb04-9d114afcee46",
   "metadata": {},
   "outputs": [
    {
     "data": {
      "text/plain": [
       "dict"
      ]
     },
     "execution_count": 206,
     "metadata": {},
     "output_type": "execute_result"
    }
   ],
   "source": [
    "type(dic)"
   ]
  },
  {
   "cell_type": "code",
   "execution_count": null,
   "id": "c8974add-a55f-4a33-8318-56ff7a05d543",
   "metadata": {},
   "outputs": [],
   "source": []
  }
 ],
 "metadata": {
  "kernelspec": {
   "display_name": "Python 3 (ipykernel)",
   "language": "python",
   "name": "python3"
  },
  "language_info": {
   "codemirror_mode": {
    "name": "ipython",
    "version": 3
   },
   "file_extension": ".py",
   "mimetype": "text/x-python",
   "name": "python",
   "nbconvert_exporter": "python",
   "pygments_lexer": "ipython3",
   "version": "3.12.4"
  }
 },
 "nbformat": 4,
 "nbformat_minor": 5
}
