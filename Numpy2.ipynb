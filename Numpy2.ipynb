{
 "cells": [
  {
   "cell_type": "markdown",
   "id": "4d4c35ee-649d-4943-9f33-cd5be0bd2e7e",
   "metadata": {},
   "source": [
    "# Numpy Basic Operations:-"
   ]
  },
  {
   "cell_type": "markdown",
   "id": "31b5843f-2fcd-45d0-b832-f8a3d1e2dc13",
   "metadata": {},
   "source": [
    "Types Of Numpy Array:-\n",
    "\n",
    "1.Scalar [Zero Dimension Array]\n",
    "\n",
    "2.Vector [1 Dimension Array]\n",
    "\n",
    "3.Matrix [2 Dimension Array]\n",
    "\n",
    "4.Multidimension [3 Dimension Array]"
   ]
  },
  {
   "cell_type": "code",
   "execution_count": null,
   "id": "ef7bf1cb-0939-4961-b85a-1bdac7c9d708",
   "metadata": {},
   "outputs": [],
   "source": [
    "import numpy as np"
   ]
  },
  {
   "cell_type": "code",
   "execution_count": null,
   "id": "f3e07dff-150b-4023-a48b-471ad7987eb1",
   "metadata": {},
   "outputs": [],
   "source": [
    "# Scalar\n",
    "arr=np.array(10)\n",
    "arr\n"
   ]
  },
  {
   "cell_type": "code",
   "execution_count": null,
   "id": "4bd949ea-08b2-4b9b-a5e7-48bc9c5bf1a7",
   "metadata": {},
   "outputs": [],
   "source": [
    "arr.ndim # N-Dimensional use for find out dimension of Numpy Array"
   ]
  },
  {
   "cell_type": "code",
   "execution_count": null,
   "id": "c6a8cf6d-1395-4f86-84b1-df1dc3a10913",
   "metadata": {},
   "outputs": [],
   "source": [
    "# Vector Numpy Array\n",
    "arr=np.array([2,3,4,5,6,7,8])\n",
    "arr"
   ]
  },
  {
   "cell_type": "code",
   "execution_count": null,
   "id": "1fe52898-0865-4190-8178-24645c6c088e",
   "metadata": {},
   "outputs": [],
   "source": [
    "arr.ndim"
   ]
  },
  {
   "cell_type": "code",
   "execution_count": null,
   "id": "ce46dcff-8b54-42e8-9a94-53c45935c7f4",
   "metadata": {},
   "outputs": [],
   "source": [
    "np.__version__"
   ]
  },
  {
   "cell_type": "code",
   "execution_count": null,
   "id": "646a4b30-044d-4d0c-ba78-8c27185b0ab7",
   "metadata": {},
   "outputs": [],
   "source": [
    "arr"
   ]
  },
  {
   "cell_type": "code",
   "execution_count": null,
   "id": "75693070-09ca-4075-92bc-36a0be89ae0d",
   "metadata": {},
   "outputs": [],
   "source": [
    "type(arr)"
   ]
  },
  {
   "cell_type": "code",
   "execution_count": null,
   "id": "5d8fa9ee-ef3c-47eb-8a19-3872c7f92f1d",
   "metadata": {},
   "outputs": [],
   "source": [
    "arr.size"
   ]
  },
  {
   "cell_type": "code",
   "execution_count": null,
   "id": "fbfc8794-5413-425a-8e56-112d570b6787",
   "metadata": {},
   "outputs": [],
   "source": [
    "arr.dtype"
   ]
  },
  {
   "cell_type": "code",
   "execution_count": null,
   "id": "89a2e54c-50d2-4ec5-99ff-82c1bf7c3cff",
   "metadata": {},
   "outputs": [],
   "source": [
    "arr.itemsize"
   ]
  },
  {
   "cell_type": "code",
   "execution_count": null,
   "id": "80577826-676b-44af-8104-b16ad8b57d2a",
   "metadata": {},
   "outputs": [],
   "source": [
    "arr.shape"
   ]
  },
  {
   "cell_type": "markdown",
   "id": "ae9cdcba-da88-44d2-a1f1-6ee85349d759",
   "metadata": {},
   "source": [
    "(row,column)"
   ]
  },
  {
   "cell_type": "code",
   "execution_count": null,
   "id": "5c413f22-2011-4cbc-bbb5-9632b43aa960",
   "metadata": {},
   "outputs": [],
   "source": [
    "arr=np.array([2,3,4,5,6,7,8,9],dtype=np.int32) # to minimize memory to 32 byte\n",
    "arr"
   ]
  },
  {
   "cell_type": "code",
   "execution_count": null,
   "id": "30410869-bf92-4d57-ac34-9cf1c64b7fdb",
   "metadata": {},
   "outputs": [],
   "source": [
    "arr.dtype"
   ]
  },
  {
   "cell_type": "code",
   "execution_count": null,
   "id": "f83a5682-83be-456b-b796-b50ce03b8ac0",
   "metadata": {},
   "outputs": [],
   "source": [
    "arr.itemsize"
   ]
  },
  {
   "cell_type": "code",
   "execution_count": null,
   "id": "2951c06e-8820-469e-b0b2-77bb98a5620d",
   "metadata": {},
   "outputs": [],
   "source": [
    "arr=np.array([2,3,4,5,6,7,8,9],dtype=np.int16) # to minimize memory to 32 byte\n",
    "arr"
   ]
  },
  {
   "cell_type": "code",
   "execution_count": null,
   "id": "ad22653e-e38a-4b0a-b35e-57515306b185",
   "metadata": {},
   "outputs": [],
   "source": [
    "arr.dtype"
   ]
  },
  {
   "cell_type": "code",
   "execution_count": null,
   "id": "7af4abd4-0568-4152-bbbb-a18b779df8a5",
   "metadata": {},
   "outputs": [],
   "source": [
    "arr.itemsize"
   ]
  },
  {
   "cell_type": "code",
   "execution_count": null,
   "id": "1d45e9c2-f81b-4d1d-ab5c-0c7f9f0e06d2",
   "metadata": {},
   "outputs": [],
   "source": [
    "arr=np.array([2,3,4,5,6,7,8,9],dtype=np.float32) # to minimize memory to 32 byte\n",
    "arr"
   ]
  },
  {
   "cell_type": "code",
   "execution_count": null,
   "id": "879b6cb1-1e04-4fcb-b051-b51a09b45be5",
   "metadata": {},
   "outputs": [],
   "source": [
    "arr.dtype"
   ]
  },
  {
   "cell_type": "code",
   "execution_count": null,
   "id": "829a8d4b-6001-4749-9628-e0b5a7e03bdf",
   "metadata": {},
   "outputs": [],
   "source": [
    "arr.itemsize"
   ]
  },
  {
   "cell_type": "code",
   "execution_count": null,
   "id": "2fb15873-bab0-4e68-936b-7f6234a3b4b0",
   "metadata": {},
   "outputs": [],
   "source": [
    "\n",
    "arr=np.array([2,3,4.3,5.0])\n",
    "arr"
   ]
  },
  {
   "cell_type": "code",
   "execution_count": null,
   "id": "c63ef096-a05b-4325-b548-fba56b28b212",
   "metadata": {},
   "outputs": [],
   "source": [
    "arr=np.array([2,3,4.5,5.0])\n",
    "arr"
   ]
  },
  {
   "cell_type": "markdown",
   "id": "97333200-8985-47f1-8306-b2461b98eb4e",
   "metadata": {},
   "source": [
    "will make all float since takes similar data"
   ]
  },
  {
   "cell_type": "code",
   "execution_count": null,
   "id": "5abb3598-cf85-4a3d-a35d-acf035508c81",
   "metadata": {},
   "outputs": [],
   "source": [
    "arr=np.array([10,10.20,'a'])\n",
    "arr"
   ]
  },
  {
   "cell_type": "code",
   "execution_count": null,
   "id": "7993712c-fde3-41e0-a5d3-74acb9b361f9",
   "metadata": {},
   "outputs": [],
   "source": [
    "arr.itemsize"
   ]
  },
  {
   "cell_type": "markdown",
   "id": "d884129c-f37e-465c-9351-63218690b6c7",
   "metadata": {},
   "source": [
    "will make all string"
   ]
  },
  {
   "cell_type": "code",
   "execution_count": null,
   "id": "ebb73b9c-f5d1-4a65-8648-dc295a5298be",
   "metadata": {},
   "outputs": [],
   "source": [
    "np.zeros(10)"
   ]
  },
  {
   "cell_type": "markdown",
   "id": "65bbd7d6-36c0-4a0d-b7a3-d2ba5914bd57",
   "metadata": {},
   "source": [
    "bydefault take float"
   ]
  },
  {
   "cell_type": "code",
   "execution_count": null,
   "id": "c7e54321-e3f0-4a7b-835c-d06bf0c53777",
   "metadata": {},
   "outputs": [],
   "source": [
    "np.zeros(10,dtype=int)"
   ]
  },
  {
   "cell_type": "code",
   "execution_count": null,
   "id": "824ae366-cc7b-4fcb-8ff1-57c0313f20eb",
   "metadata": {},
   "outputs": [],
   "source": [
    "np.ones(5)"
   ]
  },
  {
   "cell_type": "code",
   "execution_count": null,
   "id": "89b9c121-cfef-4059-9a13-4be9028b79e8",
   "metadata": {},
   "outputs": [],
   "source": [
    "np.ones(5,dtype=int)"
   ]
  },
  {
   "cell_type": "code",
   "execution_count": null,
   "id": "4e0015b8-19d5-4157-9d75-069f9470991b",
   "metadata": {},
   "outputs": [],
   "source": [
    "np.full(10,5)"
   ]
  },
  {
   "cell_type": "markdown",
   "id": "0cb1baed-2986-4fcd-bad8-0696b0015eee",
   "metadata": {},
   "source": [
    "display 10 time 5"
   ]
  },
  {
   "cell_type": "code",
   "execution_count": null,
   "id": "0f268501-58d2-4b48-8b19-1caf44071d44",
   "metadata": {},
   "outputs": [],
   "source": [
    "np.full(10,5,dtype=float)"
   ]
  },
  {
   "cell_type": "markdown",
   "id": "b7236c6d-b14a-4f26-8cb5-c53c4bc9808b",
   "metadata": {},
   "source": [
    "# Two Dimensional Array"
   ]
  },
  {
   "cell_type": "code",
   "execution_count": null,
   "id": "68eb0b99-0fd8-416c-b6be-3978464c25f8",
   "metadata": {},
   "outputs": [],
   "source": [
    "arr=np.array([[2,4],[5,6],[7,8]])\n",
    "arr #3 x 2 Matrix\n"
   ]
  },
  {
   "cell_type": "code",
   "execution_count": null,
   "id": "9ff074a3-d52d-4780-96bb-cb5895f059be",
   "metadata": {},
   "outputs": [],
   "source": [
    "arr.shape"
   ]
  },
  {
   "cell_type": "markdown",
   "id": "99dd8610-0482-445e-bccb-9d12197f2670",
   "metadata": {},
   "source": [
    "row-sample\n",
    "\n",
    "column-feature"
   ]
  },
  {
   "cell_type": "code",
   "execution_count": null,
   "id": "df31f21e-69e7-4b3c-b8dc-a8c18097faca",
   "metadata": {},
   "outputs": [],
   "source": [
    "arr.ndim"
   ]
  },
  {
   "cell_type": "code",
   "execution_count": null,
   "id": "b3cfd8da-8ec4-47e9-bb07-f7f90c1bacf0",
   "metadata": {},
   "outputs": [],
   "source": [
    "arr.dtype"
   ]
  },
  {
   "cell_type": "code",
   "execution_count": null,
   "id": "f8f3e85e-bc38-4140-833c-3497aec3705e",
   "metadata": {},
   "outputs": [],
   "source": [
    "arr.size"
   ]
  },
  {
   "cell_type": "code",
   "execution_count": null,
   "id": "61ab9788-bf34-4cc2-9eb4-73f653cfcb04",
   "metadata": {},
   "outputs": [],
   "source": [
    "arr=np.array([[2,3,4],[5,6,7],[8,9,1]],dtype=np.int32)\n",
    "arr"
   ]
  },
  {
   "cell_type": "code",
   "execution_count": null,
   "id": "b6de1ebb-d455-4e56-9617-89d3e604a67a",
   "metadata": {},
   "outputs": [],
   "source": [
    "arr.shape"
   ]
  },
  {
   "cell_type": "code",
   "execution_count": null,
   "id": "04849ab2-13c1-498b-a26f-679770c6003e",
   "metadata": {},
   "outputs": [],
   "source": [
    "arr[1,1]\n"
   ]
  },
  {
   "cell_type": "code",
   "execution_count": null,
   "id": "9f6570ac-71f2-4586-bc1c-6ce92fc992d4",
   "metadata": {},
   "outputs": [],
   "source": [
    "print(arr[::-1,::-1])"
   ]
  },
  {
   "cell_type": "markdown",
   "id": "7e12f727-d518-43e6-9f04-02dd9818fca4",
   "metadata": {},
   "source": [
    "reverses column and rows"
   ]
  },
  {
   "cell_type": "code",
   "execution_count": null,
   "id": "3f37e4d3-2754-4005-b4a3-0b1e92877721",
   "metadata": {},
   "outputs": [],
   "source": [
    "print(arr[2,::-2])"
   ]
  },
  {
   "cell_type": "code",
   "execution_count": null,
   "id": "659a12c7-9396-4e25-b916-0a4cabf73faa",
   "metadata": {},
   "outputs": [],
   "source": [
    "np.zeros((3,3))"
   ]
  },
  {
   "cell_type": "code",
   "execution_count": null,
   "id": "ebb41873-68f3-4a6e-bd52-b1f13934069e",
   "metadata": {},
   "outputs": [],
   "source": [
    "np.zeros((3,3),dtype=int)"
   ]
  },
  {
   "cell_type": "code",
   "execution_count": null,
   "id": "bc6ad82d-3c17-4755-b93d-0d6fd1799bb1",
   "metadata": {},
   "outputs": [],
   "source": [
    "# Sparse Matrix"
   ]
  },
  {
   "cell_type": "code",
   "execution_count": null,
   "id": "18eef764-cdf5-43a7-b900-a348f27be7af",
   "metadata": {},
   "outputs": [],
   "source": [
    "np.ones((2,3))"
   ]
  },
  {
   "cell_type": "code",
   "execution_count": null,
   "id": "a8b7f242-66f2-4a6c-9782-0f9d0783bcc2",
   "metadata": {},
   "outputs": [],
   "source": [
    "np.ones((2,3),dtype=int)"
   ]
  },
  {
   "cell_type": "code",
   "execution_count": null,
   "id": "ed0d6ed4-77a1-4766-b59a-ff04c0886488",
   "metadata": {},
   "outputs": [],
   "source": [
    "np.full((2,3),2)\n"
   ]
  },
  {
   "cell_type": "code",
   "execution_count": null,
   "id": "822dbe40-8a7f-4c11-9b5d-0b22a3a5fd11",
   "metadata": {},
   "outputs": [],
   "source": [
    "np.full((2,3),2,dtype=float)"
   ]
  },
  {
   "cell_type": "code",
   "execution_count": null,
   "id": "1d9e6abf-522b-4b79-950b-47f724706919",
   "metadata": {},
   "outputs": [],
   "source": [
    "np.empty((4,4))"
   ]
  },
  {
   "cell_type": "markdown",
   "id": "0b8b096d-57d0-4034-aa62-2fa183df3955",
   "metadata": {},
   "source": [
    "takes random value"
   ]
  },
  {
   "cell_type": "code",
   "execution_count": null,
   "id": "d13eefa3-0da4-4ad9-a12b-37596bd5f45e",
   "metadata": {},
   "outputs": [],
   "source": [
    "np.empty((2,3))"
   ]
  },
  {
   "cell_type": "code",
   "execution_count": null,
   "id": "b0754e96-fe9a-4253-848a-065e86eb9ce4",
   "metadata": {},
   "outputs": [],
   "source": [
    "np.linspace(1,5)"
   ]
  },
  {
   "cell_type": "markdown",
   "id": "d48a4a21-3b5f-4140-8a85-4ce007f53ba2",
   "metadata": {},
   "source": [
    "divides num from 1 to 5 in 50 equal parts by default"
   ]
  },
  {
   "cell_type": "code",
   "execution_count": null,
   "id": "1588d1ec-9e07-4254-8819-cb77c06d2564",
   "metadata": {},
   "outputs": [],
   "source": [
    "np.linspace(1,5,num=10,retstep=True)"
   ]
  },
  {
   "cell_type": "markdown",
   "id": "9f376b9d-6cc4-448c-ae38-d1443b5909e8",
   "metadata": {},
   "source": [
    "divides in 10 equal parts as given and gives diff between each by retstep"
   ]
  },
  {
   "cell_type": "code",
   "execution_count": null,
   "id": "215c7a19-33dc-40e4-b9a9-51306374733e",
   "metadata": {},
   "outputs": [],
   "source": [
    "np.linspace(1,5,num=10,retstep=True,endpoint=False)"
   ]
  },
  {
   "cell_type": "markdown",
   "id": "c4fea178-3af2-4c5d-b290-a1320745fdc0",
   "metadata": {},
   "source": [
    "here will not take last point that is 5 so diff will also be different as a result "
   ]
  },
  {
   "cell_type": "markdown",
   "id": "ed8d22c4-9b91-4719-9ea2-1f27e8cbd65f",
   "metadata": {},
   "source": [
    "# Diff bw range() and arange():"
   ]
  },
  {
   "cell_type": "code",
   "execution_count": null,
   "id": "5dab5b1f-ab4f-44a1-b843-24c53671a30f",
   "metadata": {},
   "outputs": [],
   "source": [
    "arr=np.arange(10)\n",
    "arr\n"
   ]
  },
  {
   "cell_type": "code",
   "execution_count": null,
   "id": "e3b286c5-5862-4a19-8586-f35c0ff2a559",
   "metadata": {},
   "outputs": [],
   "source": [
    "arr.dtype"
   ]
  },
  {
   "cell_type": "code",
   "execution_count": null,
   "id": "ff541d11-96b3-48dd-8889-9ed9ce431de4",
   "metadata": {},
   "outputs": [],
   "source": [
    "arr=np.arange(1,21)\n",
    "arr"
   ]
  },
  {
   "cell_type": "code",
   "execution_count": null,
   "id": "cb9bc278-8a70-404a-b22f-0cb6ac1e6404",
   "metadata": {},
   "outputs": [],
   "source": [
    "arr=np.arange(1,21,3,dtype=float)\n",
    "arr"
   ]
  },
  {
   "cell_type": "markdown",
   "id": "eaefea76-bffd-41bd-bf10-206f401b31e0",
   "metadata": {},
   "source": [
    "# Diff bww reshape() & resize()"
   ]
  },
  {
   "cell_type": "code",
   "execution_count": null,
   "id": "ef2e0b97-6e5b-4354-96e7-9aae32b1654b",
   "metadata": {},
   "outputs": [],
   "source": [
    "import numpy as np"
   ]
  },
  {
   "cell_type": "code",
   "execution_count": null,
   "id": "3597eed6-0eaf-41fb-824d-b7015a19d3b2",
   "metadata": {},
   "outputs": [],
   "source": [
    "arr=np.array([[2,3],[4,5],[6,7]])\n",
    "arr"
   ]
  },
  {
   "cell_type": "code",
   "execution_count": null,
   "id": "1f3f3428-dc8c-48ba-9406-49a91ef4d4ea",
   "metadata": {},
   "outputs": [],
   "source": [
    "arr.reshape(1,6)"
   ]
  },
  {
   "cell_type": "code",
   "execution_count": null,
   "id": "d65355fa-2c48-4684-a949-9d309edf71d3",
   "metadata": {},
   "outputs": [],
   "source": [
    "arr.reshape(2,3)"
   ]
  },
  {
   "cell_type": "code",
   "execution_count": null,
   "id": "764bb6ae-cb25-4d38-bc43-ce1a0f5eda07",
   "metadata": {},
   "outputs": [],
   "source": [
    "arr # temp change"
   ]
  },
  {
   "cell_type": "code",
   "execution_count": null,
   "id": "5f3251b8-37ac-4231-b080-ee91a7e2f908",
   "metadata": {},
   "outputs": [],
   "source": [
    "arr.resize(2,3)"
   ]
  },
  {
   "cell_type": "code",
   "execution_count": null,
   "id": "bec239f3-ddeb-409f-8d81-c4ed4e438317",
   "metadata": {},
   "outputs": [],
   "source": [
    "arr # permanent change"
   ]
  },
  {
   "cell_type": "markdown",
   "id": "2bfdab73-3273-4c46-ab8f-119ea5d5fc4c",
   "metadata": {},
   "source": [
    "# Diff bw ravel() & flatten() method in numpy array"
   ]
  },
  {
   "cell_type": "markdown",
   "id": "12e32c41-4d25-4ab1-87bc-22418b0f0d23",
   "metadata": {},
   "source": [
    "2D array into 1D array"
   ]
  },
  {
   "cell_type": "code",
   "execution_count": null,
   "id": "e12fdc3c-31bd-4237-8651-d77346f8794d",
   "metadata": {},
   "outputs": [],
   "source": [
    "arr"
   ]
  },
  {
   "cell_type": "code",
   "execution_count": null,
   "id": "be8773c9-1d4f-4974-9b30-876e2e336c3a",
   "metadata": {},
   "outputs": [],
   "source": [
    "arr.ndim"
   ]
  },
  {
   "cell_type": "code",
   "execution_count": null,
   "id": "daf35567-92df-4463-b5ab-c038631c3cef",
   "metadata": {},
   "outputs": [],
   "source": [
    "arr.ravel()"
   ]
  },
  {
   "cell_type": "code",
   "execution_count": null,
   "id": "fd5cc5ed-f869-4220-b5ab-55e9dace9cc9",
   "metadata": {},
   "outputs": [],
   "source": [
    "arr.ndim"
   ]
  },
  {
   "cell_type": "code",
   "execution_count": null,
   "id": "3c110d5e-a330-408c-8d60-6f8c361c4a57",
   "metadata": {},
   "outputs": [],
   "source": [
    "arr"
   ]
  },
  {
   "cell_type": "code",
   "execution_count": null,
   "id": "65d0af12-67d0-4880-ba86-a73b79472fc5",
   "metadata": {},
   "outputs": [],
   "source": [
    "a=arr.ravel()"
   ]
  },
  {
   "cell_type": "code",
   "execution_count": null,
   "id": "49983255-b375-44eb-b947-6e1f34a03959",
   "metadata": {},
   "outputs": [],
   "source": [
    "a"
   ]
  },
  {
   "cell_type": "code",
   "execution_count": null,
   "id": "a40d7121-81bd-454b-83ce-9f2654bc13c0",
   "metadata": {},
   "outputs": [],
   "source": [
    "arr"
   ]
  },
  {
   "cell_type": "code",
   "execution_count": null,
   "id": "a826c241-7974-4c65-ade3-8d7d5ffeb61c",
   "metadata": {},
   "outputs": [],
   "source": [
    "arr.flatten()"
   ]
  },
  {
   "cell_type": "code",
   "execution_count": null,
   "id": "d7bc185f-0bd8-4f82-9229-063694d7e339",
   "metadata": {},
   "outputs": [],
   "source": [
    "b=arr.flatten()\n",
    "b"
   ]
  },
  {
   "cell_type": "code",
   "execution_count": null,
   "id": "4fa3f57a-d593-4257-8b24-f499342c4e1c",
   "metadata": {},
   "outputs": [],
   "source": [
    "a"
   ]
  },
  {
   "cell_type": "code",
   "execution_count": null,
   "id": "ef191121-5084-4c3c-964e-2ab97c29d7ca",
   "metadata": {},
   "outputs": [],
   "source": [
    "a[3]=9"
   ]
  },
  {
   "cell_type": "code",
   "execution_count": null,
   "id": "471e033d-2caa-49df-9db4-4e25a27a9cc0",
   "metadata": {},
   "outputs": [],
   "source": [
    "a"
   ]
  },
  {
   "cell_type": "code",
   "execution_count": null,
   "id": "7fa03bff-1ada-46bc-965d-3776b2a253cb",
   "metadata": {},
   "outputs": [],
   "source": [
    "arr"
   ]
  },
  {
   "cell_type": "markdown",
   "id": "59c8d9c3-8716-4ea4-a70b-c062354ceb0a",
   "metadata": {},
   "source": [
    "modifies element in actual array also but not with flatten"
   ]
  },
  {
   "cell_type": "code",
   "execution_count": null,
   "id": "e7ca4e40-fac9-4ef3-b279-9d24208a44e4",
   "metadata": {},
   "outputs": [],
   "source": [
    "b"
   ]
  },
  {
   "cell_type": "code",
   "execution_count": null,
   "id": "5e3c284f-1c2d-401e-94da-b10bb1f750ef",
   "metadata": {},
   "outputs": [],
   "source": [
    "b[5]=12\n",
    "b"
   ]
  },
  {
   "cell_type": "code",
   "execution_count": null,
   "id": "fd1fc020-0ac1-42ab-925f-346f22a268b2",
   "metadata": {},
   "outputs": [],
   "source": [
    "arr"
   ]
  },
  {
   "cell_type": "markdown",
   "id": "65d67ba7-1e39-4dca-b571-9ddf148bedc8",
   "metadata": {},
   "source": [
    "no change in  actual arr"
   ]
  },
  {
   "cell_type": "markdown",
   "id": "d1b8700d-6d5e-4b70-a812-62e15f66555b",
   "metadata": {},
   "source": [
    "# Mathematical Operations in Numpy Array:- "
   ]
  },
  {
   "cell_type": "code",
   "execution_count": null,
   "id": "dd615c57-ea3e-49a7-ac2b-cf71915e2326",
   "metadata": {},
   "outputs": [],
   "source": [
    "arr=np.array([[2,6,5],[9,8,1],[6,4,7]])\n",
    "arr # 3x3"
   ]
  },
  {
   "cell_type": "code",
   "execution_count": null,
   "id": "b57bf957-4785-4540-8e11-90bad6c1ebb1",
   "metadata": {},
   "outputs": [],
   "source": [
    "arr.sum()"
   ]
  },
  {
   "cell_type": "code",
   "execution_count": null,
   "id": "601af9b5-0d39-4340-8482-fe79a1d3d3b7",
   "metadata": {},
   "outputs": [],
   "source": [
    "arr.sum(axis=0)# colmn wise sum"
   ]
  },
  {
   "cell_type": "code",
   "execution_count": null,
   "id": "107055d0-8791-4af6-ac0c-e1c2caf21291",
   "metadata": {},
   "outputs": [],
   "source": [
    "arr.sum(axis=1) # row wise sum"
   ]
  },
  {
   "cell_type": "code",
   "execution_count": null,
   "id": "911ebc58-bd80-48d6-8b6e-d9735f691b85",
   "metadata": {},
   "outputs": [],
   "source": [
    "arr.min()"
   ]
  },
  {
   "cell_type": "code",
   "execution_count": null,
   "id": "6d69f524-94d4-454b-987b-5dd0edee3b40",
   "metadata": {},
   "outputs": [],
   "source": [
    "arr.min(axis=0) # column wise min"
   ]
  },
  {
   "cell_type": "code",
   "execution_count": null,
   "id": "fded4826-8cda-48c9-9c23-e4c5fc6f1f05",
   "metadata": {},
   "outputs": [],
   "source": [
    "arr.min(axis=1) # row wise min"
   ]
  },
  {
   "cell_type": "code",
   "execution_count": null,
   "id": "a3ebbc93-44eb-497a-923f-e7a1f7093098",
   "metadata": {},
   "outputs": [],
   "source": [
    "arr.max()"
   ]
  },
  {
   "cell_type": "code",
   "execution_count": null,
   "id": "53c7b0ee-1ace-435e-9aab-b6cd86c4a0cd",
   "metadata": {},
   "outputs": [],
   "source": [
    "arr.max(axis=0)"
   ]
  },
  {
   "cell_type": "code",
   "execution_count": null,
   "id": "dc7f7f66-4540-495d-a7a6-b028ba002c56",
   "metadata": {},
   "outputs": [],
   "source": [
    "arr.max(axis=1) # func"
   ]
  },
  {
   "cell_type": "code",
   "execution_count": null,
   "id": "cd9c493f-5bbf-4e1f-9183-a88cdbf4dd33",
   "metadata": {},
   "outputs": [],
   "source": [
    "np.square(arr) # method"
   ]
  },
  {
   "cell_type": "code",
   "execution_count": null,
   "id": "85b5bb3f-5c4a-411d-8b86-42f2b696c7de",
   "metadata": {},
   "outputs": [],
   "source": [
    "np.sqrt(arr)"
   ]
  },
  {
   "cell_type": "code",
   "execution_count": null,
   "id": "6cf4ced2-290f-4132-a46d-e4249cae2775",
   "metadata": {},
   "outputs": [],
   "source": [
    "np.log(arr) # log2 base"
   ]
  },
  {
   "cell_type": "markdown",
   "id": "d357a4c2-cf57-4612-ba60-d752d40fa9e0",
   "metadata": {},
   "source": [
    "# Stacking of Numpy Array:-"
   ]
  },
  {
   "cell_type": "code",
   "execution_count": null,
   "id": "ed310dd1-07c9-4e85-80ca-38adb3475f25",
   "metadata": {},
   "outputs": [],
   "source": [
    "a=np.arange(6).reshape(3,2)\n",
    "a"
   ]
  },
  {
   "cell_type": "code",
   "execution_count": null,
   "id": "42b1545a-e14a-48a2-9d1d-1c53ac6d24e6",
   "metadata": {},
   "outputs": [],
   "source": [
    "b=np.arange(6,12).reshape(3,2)\n",
    "b"
   ]
  },
  {
   "cell_type": "code",
   "execution_count": null,
   "id": "a94fbd70-5c5d-4ad4-a238-2d62b3bc679f",
   "metadata": {},
   "outputs": [],
   "source": [
    "np.vstack((a,b)) # vertically merges both a and b arrays"
   ]
  },
  {
   "cell_type": "code",
   "execution_count": null,
   "id": "51100ea5-cb88-43c8-ae80-f7d728fb0a2b",
   "metadata": {},
   "outputs": [],
   "source": [
    "np.hstack((a,b)) # horzontally merges "
   ]
  },
  {
   "cell_type": "markdown",
   "id": "ad9432b4-416f-45ce-a554-896ef61bd6b0",
   "metadata": {},
   "source": [
    "# Splitting of Numpy Array"
   ]
  },
  {
   "cell_type": "code",
   "execution_count": null,
   "id": "c70cfd8f-966d-4d86-a461-c8d1b81cfcf4",
   "metadata": {},
   "outputs": [],
   "source": [
    "arr=np.arange(30).reshape(2,15)\n",
    "arr"
   ]
  },
  {
   "cell_type": "code",
   "execution_count": null,
   "id": "eab9ff80-568f-4ccd-9314-997037cdd2bf",
   "metadata": {},
   "outputs": [],
   "source": [
    "np.hsplit(arr,3)"
   ]
  },
  {
   "cell_type": "code",
   "execution_count": null,
   "id": "db0b29c5-ca39-4982-bdf5-82beab7538f9",
   "metadata": {},
   "outputs": [],
   "source": [
    "np.hsplit(arr,5)"
   ]
  },
  {
   "cell_type": "markdown",
   "id": "054ebfdc-1ba0-4f2b-b99d-10cedf133bd8",
   "metadata": {},
   "source": [
    "splits in equal parts"
   ]
  },
  {
   "cell_type": "code",
   "execution_count": null,
   "id": "a5ce73d5-ae26-4ef9-a91d-2ffaf53631af",
   "metadata": {},
   "outputs": [],
   "source": [
    "result=np.hsplit(arr,3)"
   ]
  },
  {
   "cell_type": "code",
   "execution_count": null,
   "id": "0e738fd3-8e06-4d94-a9b7-25d7e1002267",
   "metadata": {},
   "outputs": [],
   "source": [
    "result[0]"
   ]
  },
  {
   "cell_type": "code",
   "execution_count": null,
   "id": "979e80b9-e349-4160-8e5e-ccc31d82945e",
   "metadata": {},
   "outputs": [],
   "source": [
    "result[1]"
   ]
  },
  {
   "cell_type": "code",
   "execution_count": null,
   "id": "fa97b2e4-f20f-429b-919e-acf4c6b9f98a",
   "metadata": {},
   "outputs": [],
   "source": [
    "result[2]"
   ]
  },
  {
   "cell_type": "code",
   "execution_count": null,
   "id": "2ebfc17f-2a3a-4fb8-bd56-3703902b4978",
   "metadata": {},
   "outputs": [],
   "source": [
    "result"
   ]
  },
  {
   "cell_type": "code",
   "execution_count": null,
   "id": "a225b5bb-8dac-4ff2-bd0f-78b306ca4348",
   "metadata": {},
   "outputs": [],
   "source": [
    "np.vsplit(arr,2) "
   ]
  },
  {
   "cell_type": "markdown",
   "id": "aa777eaf-e26c-4378-9059-2b46e7cf97d6",
   "metadata": {},
   "source": [
    "# Indexing with Boolean Array:-"
   ]
  },
  {
   "cell_type": "code",
   "execution_count": null,
   "id": "d60e56af-86b7-438c-be79-cb680aec50fb",
   "metadata": {},
   "outputs": [],
   "source": [
    "a=np.arange(12).reshape(4,3)\n",
    "a"
   ]
  },
  {
   "cell_type": "code",
   "execution_count": null,
   "id": "b33908e8-d26e-4edc-9ea6-cc0afea4de7e",
   "metadata": {},
   "outputs": [],
   "source": [
    "b=a>4\n",
    "b"
   ]
  },
  {
   "cell_type": "code",
   "execution_count": null,
   "id": "6a02fafa-a2dd-4165-b9cc-0c80dbd6e62f",
   "metadata": {},
   "outputs": [],
   "source": [
    "a[b] # display all true values"
   ]
  },
  {
   "cell_type": "code",
   "execution_count": null,
   "id": "9054d125-58b7-4dd8-96c9-30b29c254580",
   "metadata": {},
   "outputs": [],
   "source": [
    "a[b]=-1 # need not to do -1 one by one"
   ]
  },
  {
   "cell_type": "code",
   "execution_count": null,
   "id": "5d2cde96-e531-4218-a0a0-1bdf7d14a4f7",
   "metadata": {},
   "outputs": [],
   "source": [
    "a"
   ]
  },
  {
   "cell_type": "code",
   "execution_count": null,
   "id": "eac5a63a-bab6-4ec4-85cf-4864fdafe41e",
   "metadata": {},
   "outputs": [],
   "source": [
    "a=np.arange(6).reshape(3,2)\n",
    "a"
   ]
  },
  {
   "cell_type": "code",
   "execution_count": null,
   "id": "5302c1d8-48ea-4943-b995-d38e070d9d91",
   "metadata": {},
   "outputs": [],
   "source": [
    "b=np.arange(6,12).reshape(3,2)\n",
    "b"
   ]
  },
  {
   "cell_type": "code",
   "execution_count": null,
   "id": "37bc8ffe-2a25-4147-9ae0-17083c5f262b",
   "metadata": {},
   "outputs": [],
   "source": [
    "np.concatenate((a,b),axis=0) # colmn wise merge like hstack"
   ]
  },
  {
   "cell_type": "code",
   "execution_count": null,
   "id": "e94390a6-b079-4279-8e1d-2fc4740479e4",
   "metadata": {},
   "outputs": [],
   "source": [
    "np.concatenate((a,b),axis=1)# row wise merge like vstack"
   ]
  },
  {
   "cell_type": "markdown",
   "id": "ada3c6d8-d4a7-4508-b366-90a56e1fbe67",
   "metadata": {},
   "source": [
    "# Random Numbers in Numpy Array"
   ]
  },
  {
   "cell_type": "code",
   "execution_count": null,
   "id": "545a5de9-d9e1-4ddb-b736-c804bd9e1a2a",
   "metadata": {},
   "outputs": [],
   "source": [
    "np.random.randint(2,10,size=(3,4))"
   ]
  },
  {
   "cell_type": "code",
   "execution_count": null,
   "id": "3b575894-19cf-42ec-8b84-70e7f1957424",
   "metadata": {},
   "outputs": [],
   "source": [
    "np.random.randint(2,10,size=(3,4))"
   ]
  },
  {
   "cell_type": "code",
   "execution_count": null,
   "id": "1ef00729-48be-4ed9-a57c-fe37c0587656",
   "metadata": {},
   "outputs": [],
   "source": [
    "np.random.rand(4,2) #  btw 0.0 & 1.0"
   ]
  },
  {
   "cell_type": "markdown",
   "id": "daee2f58-a5e1-4c78-91d4-0324d91c8c49",
   "metadata": {},
   "source": [
    "# Transpose of Numpy Array:-"
   ]
  },
  {
   "cell_type": "code",
   "execution_count": null,
   "id": "b6a182f4-4711-47dc-be1d-d3a88d2e6151",
   "metadata": {},
   "outputs": [],
   "source": [
    "a=np.array([[2,3],[7,8],[4,5]])\n",
    "a"
   ]
  },
  {
   "cell_type": "code",
   "execution_count": null,
   "id": "61ef1bac-7472-4e98-bded-4f4a81b99d13",
   "metadata": {},
   "outputs": [],
   "source": [
    "a.transpose()"
   ]
  },
  {
   "cell_type": "markdown",
   "id": "cbd23197-b81e-4213-b83f-5032cce93d33",
   "metadata": {},
   "source": [
    "# Sorting of Numpy Array"
   ]
  },
  {
   "cell_type": "code",
   "execution_count": null,
   "id": "a50392d0-c0f2-4f6f-b944-8c6148a96c31",
   "metadata": {},
   "outputs": [],
   "source": [
    "arr=np.array([[3,1,8],[9,5,2],[6,4,9],[4,7,2]])\n",
    "arr"
   ]
  },
  {
   "cell_type": "code",
   "execution_count": null,
   "id": "f86d5e28-ffc8-487b-8614-1dde2356ab83",
   "metadata": {},
   "outputs": [],
   "source": [
    "arr.sort() # bydefault quicksort(faster) and axis=-1\n",
    "arr"
   ]
  },
  {
   "cell_type": "code",
   "execution_count": null,
   "id": "ffe03f88-1e6a-4e76-9dfc-d673f95bdaef",
   "metadata": {},
   "outputs": [],
   "source": [
    "arr.sort(axis=1) #row wise asc order"
   ]
  },
  {
   "cell_type": "code",
   "execution_count": null,
   "id": "81c47794-13df-4556-9e33-431c4b6e5aa3",
   "metadata": {},
   "outputs": [],
   "source": [
    "arr"
   ]
  },
  {
   "cell_type": "code",
   "execution_count": null,
   "id": "6b949480-8d10-462e-8fe6-0bfa5ce7d0a8",
   "metadata": {},
   "outputs": [],
   "source": [
    "arr.sort(axis=0) # colmn wise asc order\n",
    "arr"
   ]
  },
  {
   "cell_type": "markdown",
   "id": "88a20749-5b5f-49b6-a669-b0ac7ac21024",
   "metadata": {},
   "source": [
    " .argmax() & .argmin()"
   ]
  },
  {
   "cell_type": "code",
   "execution_count": null,
   "id": "f5b47301-af4e-4c59-a644-c9fd0b10ac7a",
   "metadata": {},
   "outputs": [],
   "source": [
    "arr=np.array([[2,3],[6,4],[7,8],[9,1]])\n",
    "arr"
   ]
  },
  {
   "cell_type": "code",
   "execution_count": null,
   "id": "de6d7203-3769-4683-b58e-c8d575e05c90",
   "metadata": {},
   "outputs": [],
   "source": [
    "np.argmax(arr)# displays max element index"
   ]
  },
  {
   "cell_type": "code",
   "execution_count": null,
   "id": "01288b8e-5696-4dff-a92f-ee4f832c86a1",
   "metadata": {},
   "outputs": [],
   "source": [
    "np.argmin(arr) # displays min element index"
   ]
  },
  {
   "cell_type": "code",
   "execution_count": null,
   "id": "5ae83ad3-0d67-46e1-b2b6-3a7490bb998b",
   "metadata": {},
   "outputs": [],
   "source": [
    "np.argmax(arr,axis=0) #colmn wise max element index"
   ]
  },
  {
   "cell_type": "markdown",
   "id": "01805047-091a-40e3-8616-ace317c16c79",
   "metadata": {},
   "source": [
    "# How to Convert 2D Numpy Array To List:-"
   ]
  },
  {
   "cell_type": "code",
   "execution_count": null,
   "id": "9aca6a40-8e62-4b92-96db-ea953166a2bf",
   "metadata": {},
   "outputs": [],
   "source": [
    "arr=np.array([[2,3,4],[5,6,7],[7,8,9]])\n",
    "arr"
   ]
  },
  {
   "cell_type": "code",
   "execution_count": null,
   "id": "56a2a21c-b41e-4593-b59b-dfd315f12dcf",
   "metadata": {},
   "outputs": [],
   "source": [
    "arr.ndim"
   ]
  },
  {
   "cell_type": "code",
   "execution_count": null,
   "id": "3ad425ce-6f80-4fbd-91d8-38d37f9ca9dc",
   "metadata": {},
   "outputs": [],
   "source": [
    "arr.tolist() # converted 2D into nested list"
   ]
  },
  {
   "cell_type": "markdown",
   "id": "decf93e0-14ea-46d0-836f-6c3c191cd081",
   "metadata": {},
   "source": [
    "Lets convert to single list"
   ]
  },
  {
   "cell_type": "code",
   "execution_count": null,
   "id": "9a2ecce9-4006-4d4d-8615-942b3577770d",
   "metadata": {},
   "outputs": [],
   "source": [
    "b=arr.flatten()\n",
    "b"
   ]
  },
  {
   "cell_type": "code",
   "execution_count": null,
   "id": "5d56fb7a-39a6-46a6-801f-c3b9c2a8b5b0",
   "metadata": {},
   "outputs": [],
   "source": [
    "b.ndim"
   ]
  },
  {
   "cell_type": "code",
   "execution_count": null,
   "id": "5b0c6831-fbe2-4ac4-a93d-e4230de0484b",
   "metadata": {},
   "outputs": [],
   "source": [
    "li=b.tolist() # Converted 1D into Single list\n",
    "li"
   ]
  },
  {
   "cell_type": "code",
   "execution_count": null,
   "id": "94135d67-09af-4ce1-a261-c21404d7c34d",
   "metadata": {},
   "outputs": [],
   "source": [
    "type(li)"
   ]
  },
  {
   "cell_type": "code",
   "execution_count": 3,
   "id": "26ccebd6-ff2f-45b4-b0ba-18d8cd0b5039",
   "metadata": {},
   "outputs": [],
   "source": [
    "import numpy as np"
   ]
  },
  {
   "cell_type": "code",
   "execution_count": 5,
   "id": "84a912c7-a369-462a-bcc3-1dea8e80bab1",
   "metadata": {},
   "outputs": [
    {
     "data": {
      "text/plain": [
       "array([[2, 3],\n",
       "       [4, 5],\n",
       "       [6, 7]])"
      ]
     },
     "execution_count": 5,
     "metadata": {},
     "output_type": "execute_result"
    }
   ],
   "source": [
    "arr=np.array([[2,3],[4,5],[6,7]])\n",
    "arr"
   ]
  },
  {
   "cell_type": "code",
   "execution_count": 7,
   "id": "5be6eaca-eec4-4afc-86dc-da83e2113e84",
   "metadata": {},
   "outputs": [
    {
     "data": {
      "text/plain": [
       "dtype('int64')"
      ]
     },
     "execution_count": 7,
     "metadata": {},
     "output_type": "execute_result"
    }
   ],
   "source": [
    "arr.dtype"
   ]
  },
  {
   "cell_type": "code",
   "execution_count": 9,
   "id": "8d744c26-4edc-4622-88f3-45a2a879b94c",
   "metadata": {},
   "outputs": [
    {
     "data": {
      "text/plain": [
       "array([[2., 3.],\n",
       "       [4., 5.],\n",
       "       [6., 7.]])"
      ]
     },
     "execution_count": 9,
     "metadata": {},
     "output_type": "execute_result"
    }
   ],
   "source": [
    "arr=arr.astype('float')\n",
    "arr"
   ]
  },
  {
   "cell_type": "code",
   "execution_count": 11,
   "id": "18175434-b30e-4eab-b3f4-1dc3e7f01541",
   "metadata": {},
   "outputs": [
    {
     "data": {
      "text/plain": [
       "dtype('float64')"
      ]
     },
     "execution_count": 11,
     "metadata": {},
     "output_type": "execute_result"
    }
   ],
   "source": [
    "arr.dtype"
   ]
  },
  {
   "cell_type": "code",
   "execution_count": 13,
   "id": "601152af-2efc-4c73-a9bb-951b2a4dc315",
   "metadata": {},
   "outputs": [
    {
     "data": {
      "text/plain": [
       "array([[2., 3.],\n",
       "       [4., 5.],\n",
       "       [6., 7.]])"
      ]
     },
     "execution_count": 13,
     "metadata": {},
     "output_type": "execute_result"
    }
   ],
   "source": [
    "arr"
   ]
  },
  {
   "cell_type": "code",
   "execution_count": 15,
   "id": "f1f2b24e-ef3b-497d-85a1-3502d3bf7c66",
   "metadata": {},
   "outputs": [],
   "source": [
    "arr=arr.astype('int')"
   ]
  },
  {
   "cell_type": "code",
   "execution_count": 17,
   "id": "4e072528-7b0d-48e6-8b4f-7646916d92c2",
   "metadata": {},
   "outputs": [
    {
     "data": {
      "text/plain": [
       "array([[2, 3],\n",
       "       [4, 5],\n",
       "       [6, 7]])"
      ]
     },
     "execution_count": 17,
     "metadata": {},
     "output_type": "execute_result"
    }
   ],
   "source": [
    "arr"
   ]
  },
  {
   "cell_type": "markdown",
   "id": "dac6e318-da17-4a0b-a9fc-ee1267cca84e",
   "metadata": {},
   "source": [
    "# How To Add New Column/Row in 2D Numpy Array:"
   ]
  },
  {
   "cell_type": "code",
   "execution_count": 20,
   "id": "2dcafd5a-944d-492f-8414-b067aa04d5b1",
   "metadata": {},
   "outputs": [
    {
     "data": {
      "text/plain": [
       "array([[2, 8, 3],\n",
       "       [4, 2, 5],\n",
       "       [6, 1, 7]])"
      ]
     },
     "execution_count": 20,
     "metadata": {},
     "output_type": "execute_result"
    }
   ],
   "source": [
    "np.insert(arr,1,[8,2,1],axis=1)# colmn wise where 1 is index"
   ]
  },
  {
   "cell_type": "code",
   "execution_count": 24,
   "id": "308b10fa-06e4-4d30-b35d-cf0d5e45448f",
   "metadata": {},
   "outputs": [
    {
     "data": {
      "text/plain": [
       "array([[2, 3],\n",
       "       [4, 5],\n",
       "       [6, 7]])"
      ]
     },
     "execution_count": 24,
     "metadata": {},
     "output_type": "execute_result"
    }
   ],
   "source": [
    "arr"
   ]
  },
  {
   "cell_type": "code",
   "execution_count": 28,
   "id": "1c030bc0-9c02-407a-9066-cca449370bd5",
   "metadata": {},
   "outputs": [
    {
     "data": {
      "text/plain": [
       "array([[2, 3, 8],\n",
       "       [4, 5, 8],\n",
       "       [6, 7, 8]])"
      ]
     },
     "execution_count": 28,
     "metadata": {},
     "output_type": "execute_result"
    }
   ],
   "source": [
    "np.insert(arr,2,[8],axis=1)"
   ]
  },
  {
   "cell_type": "code",
   "execution_count": 32,
   "id": "205938bb-a119-4666-b1d6-c1cc3db9cf6a",
   "metadata": {},
   "outputs": [
    {
     "data": {
      "text/plain": [
       "array([[2, 3],\n",
       "       [8, 1],\n",
       "       [4, 5],\n",
       "       [6, 7]])"
      ]
     },
     "execution_count": 32,
     "metadata": {},
     "output_type": "execute_result"
    }
   ],
   "source": [
    "np.insert(arr,1,[8,1],axis=0) # row wise "
   ]
  },
  {
   "cell_type": "code",
   "execution_count": 36,
   "id": "6d6e7eed-6e18-474c-b622-87777e91720b",
   "metadata": {},
   "outputs": [
    {
     "data": {
      "text/plain": [
       "array([[2, 3],\n",
       "       [4, 5],\n",
       "       [1, 1],\n",
       "       [6, 7]])"
      ]
     },
     "execution_count": 36,
     "metadata": {},
     "output_type": "execute_result"
    }
   ],
   "source": [
    "np.insert(arr,2,[1],axis=0)"
   ]
  },
  {
   "cell_type": "markdown",
   "id": "f6153f10-f526-4efd-9c32-61c7cef63b45",
   "metadata": {},
   "source": [
    "# How To Delete Row/Column in a 2D Numpy Array"
   ]
  },
  {
   "cell_type": "code",
   "execution_count": 39,
   "id": "1e6ac1ce-183e-4b54-8276-83226683f528",
   "metadata": {},
   "outputs": [
    {
     "data": {
      "text/plain": [
       "array([[2],\n",
       "       [4],\n",
       "       [6]])"
      ]
     },
     "execution_count": 39,
     "metadata": {},
     "output_type": "execute_result"
    }
   ],
   "source": [
    "np.delete(arr,1,axis=1)"
   ]
  },
  {
   "cell_type": "code",
   "execution_count": 41,
   "id": "7afa1480-1a8c-4bd7-ad3c-2cdba76c1593",
   "metadata": {},
   "outputs": [
    {
     "data": {
      "text/plain": [
       "array([[2, 3],\n",
       "       [6, 7]])"
      ]
     },
     "execution_count": 41,
     "metadata": {},
     "output_type": "execute_result"
    }
   ],
   "source": [
    "np.delete(arr,1,0)"
   ]
  },
  {
   "cell_type": "markdown",
   "id": "e211c737-7455-47e9-b2bd-c1df4ae9cd85",
   "metadata": {},
   "source": [
    "# How To Convert List and Tuple into Numpy Array"
   ]
  },
  {
   "cell_type": "code",
   "execution_count": 44,
   "id": "b8ea4ba6-6fcf-4b17-b494-6a33c267c3af",
   "metadata": {},
   "outputs": [
    {
     "data": {
      "text/plain": [
       "[[2, 3], [4, 5], [6, 7], [8, 9]]"
      ]
     },
     "execution_count": 44,
     "metadata": {},
     "output_type": "execute_result"
    }
   ],
   "source": [
    "data=[[2,3],[4,5],[6,7],[8,9]]\n",
    "data"
   ]
  },
  {
   "cell_type": "code",
   "execution_count": 46,
   "id": "611846bb-1005-41a7-a2d5-556df2d420d5",
   "metadata": {},
   "outputs": [
    {
     "data": {
      "text/plain": [
       "list"
      ]
     },
     "execution_count": 46,
     "metadata": {},
     "output_type": "execute_result"
    }
   ],
   "source": [
    "type(data)"
   ]
  },
  {
   "cell_type": "code",
   "execution_count": 48,
   "id": "68cb6732-7963-4bdb-a2bf-202f27d3c9b5",
   "metadata": {},
   "outputs": [
    {
     "data": {
      "text/plain": [
       "array([[2, 3],\n",
       "       [4, 5],\n",
       "       [6, 7],\n",
       "       [8, 9]])"
      ]
     },
     "execution_count": 48,
     "metadata": {},
     "output_type": "execute_result"
    }
   ],
   "source": [
    "np.asarray(data)"
   ]
  },
  {
   "cell_type": "code",
   "execution_count": 50,
   "id": "c2908f8e-12ce-4fd7-9394-b77281dea714",
   "metadata": {},
   "outputs": [
    {
     "data": {
      "text/plain": [
       "numpy.ndarray"
      ]
     },
     "execution_count": 50,
     "metadata": {},
     "output_type": "execute_result"
    }
   ],
   "source": [
    "type(arr)"
   ]
  },
  {
   "cell_type": "code",
   "execution_count": 52,
   "id": "a1d45d83-748a-4b76-968d-44397e1a16f2",
   "metadata": {},
   "outputs": [
    {
     "data": {
      "text/plain": [
       "2"
      ]
     },
     "execution_count": 52,
     "metadata": {},
     "output_type": "execute_result"
    }
   ],
   "source": [
    "arr.ndim"
   ]
  },
  {
   "cell_type": "code",
   "execution_count": 56,
   "id": "5e0917f2-cfb5-407d-bd8c-36641953261b",
   "metadata": {},
   "outputs": [
    {
     "data": {
      "text/plain": [
       "([2, 3, 4], [5, 6, 7], [8, 9, 1])"
      ]
     },
     "execution_count": 56,
     "metadata": {},
     "output_type": "execute_result"
    }
   ],
   "source": [
    "data=([2,3,4],[5,6,7],[8,9,1])\n",
    "data"
   ]
  },
  {
   "cell_type": "code",
   "execution_count": 58,
   "id": "44aadd37-1905-4c59-9be5-236a1f84ff01",
   "metadata": {},
   "outputs": [
    {
     "data": {
      "text/plain": [
       "tuple"
      ]
     },
     "execution_count": 58,
     "metadata": {},
     "output_type": "execute_result"
    }
   ],
   "source": [
    "type(data)"
   ]
  },
  {
   "cell_type": "code",
   "execution_count": 62,
   "id": "843a4036-b867-4305-96f6-4a36ea115a6b",
   "metadata": {},
   "outputs": [
    {
     "data": {
      "text/plain": [
       "array([[2, 3, 4],\n",
       "       [5, 6, 7],\n",
       "       [8, 9, 1]])"
      ]
     },
     "execution_count": 62,
     "metadata": {},
     "output_type": "execute_result"
    }
   ],
   "source": [
    "np.asarray(data)"
   ]
  },
  {
   "cell_type": "code",
   "execution_count": 64,
   "id": "0dfa9610-d03d-4faa-85db-564aa296f662",
   "metadata": {},
   "outputs": [
    {
     "data": {
      "text/plain": [
       "numpy.ndarray"
      ]
     },
     "execution_count": 64,
     "metadata": {},
     "output_type": "execute_result"
    }
   ],
   "source": [
    "type(arr)"
   ]
  },
  {
   "cell_type": "markdown",
   "id": "b636e3e2-9614-4dc9-83ec-f53ff52a3532",
   "metadata": {},
   "source": [
    "# MULTI - DIMENSIONAL ARRAY:-"
   ]
  },
  {
   "cell_type": "code",
   "execution_count": 68,
   "id": "e48b672b-8ae1-4875-9af6-8eeb26390bf1",
   "metadata": {},
   "outputs": [
    {
     "data": {
      "text/plain": [
       "array([ 0,  1,  2,  3,  4,  5,  6,  7,  8,  9, 10, 11, 12, 13, 14, 15, 16,\n",
       "       17, 18, 19, 20, 21, 22, 23, 24, 25, 26, 27, 28, 29, 30, 31, 32, 33,\n",
       "       34, 35, 36, 37, 38, 39, 40, 41, 42, 43, 44, 45, 46, 47, 48, 49, 50,\n",
       "       51, 52, 53, 54, 55, 56, 57, 58, 59, 60, 61, 62, 63, 64, 65, 66, 67,\n",
       "       68, 69, 70, 71, 72, 73, 74, 75, 76, 77, 78, 79, 80, 81, 82, 83, 84,\n",
       "       85, 86, 87, 88, 89])"
      ]
     },
     "execution_count": 68,
     "metadata": {},
     "output_type": "execute_result"
    }
   ],
   "source": [
    "arr=np.arange(90)\n",
    "arr"
   ]
  },
  {
   "cell_type": "code",
   "execution_count": 70,
   "id": "472a6840-6afb-45e7-ba39-b7bb8c4b12e3",
   "metadata": {},
   "outputs": [
    {
     "data": {
      "text/plain": [
       "array([[[ 0,  1,  2,  3,  4],\n",
       "        [ 5,  6,  7,  8,  9]],\n",
       "\n",
       "       [[10, 11, 12, 13, 14],\n",
       "        [15, 16, 17, 18, 19]],\n",
       "\n",
       "       [[20, 21, 22, 23, 24],\n",
       "        [25, 26, 27, 28, 29]],\n",
       "\n",
       "       [[30, 31, 32, 33, 34],\n",
       "        [35, 36, 37, 38, 39]],\n",
       "\n",
       "       [[40, 41, 42, 43, 44],\n",
       "        [45, 46, 47, 48, 49]],\n",
       "\n",
       "       [[50, 51, 52, 53, 54],\n",
       "        [55, 56, 57, 58, 59]],\n",
       "\n",
       "       [[60, 61, 62, 63, 64],\n",
       "        [65, 66, 67, 68, 69]],\n",
       "\n",
       "       [[70, 71, 72, 73, 74],\n",
       "        [75, 76, 77, 78, 79]],\n",
       "\n",
       "       [[80, 81, 82, 83, 84],\n",
       "        [85, 86, 87, 88, 89]]])"
      ]
     },
     "execution_count": 70,
     "metadata": {},
     "output_type": "execute_result"
    }
   ],
   "source": [
    "arr.reshape(9,2,5)# multiplication must be 90\n",
    "#(group,row,column)"
   ]
  },
  {
   "cell_type": "code",
   "execution_count": 72,
   "id": "8004675e-c745-4de9-88c4-3466d7049273",
   "metadata": {},
   "outputs": [
    {
     "data": {
      "text/plain": [
       "array([[[ 0,  1,  2,  3,  4],\n",
       "        [ 5,  6,  7,  8,  9]],\n",
       "\n",
       "       [[10, 11, 12, 13, 14],\n",
       "        [15, 16, 17, 18, 19]],\n",
       "\n",
       "       [[20, 21, 22, 23, 24],\n",
       "        [25, 26, 27, 28, 29]],\n",
       "\n",
       "       [[30, 31, 32, 33, 34],\n",
       "        [35, 36, 37, 38, 39]],\n",
       "\n",
       "       [[40, 41, 42, 43, 44],\n",
       "        [45, 46, 47, 48, 49]],\n",
       "\n",
       "       [[50, 51, 52, 53, 54],\n",
       "        [55, 56, 57, 58, 59]],\n",
       "\n",
       "       [[60, 61, 62, 63, 64],\n",
       "        [65, 66, 67, 68, 69]],\n",
       "\n",
       "       [[70, 71, 72, 73, 74],\n",
       "        [75, 76, 77, 78, 79]],\n",
       "\n",
       "       [[80, 81, 82, 83, 84],\n",
       "        [85, 86, 87, 88, 89]]])"
      ]
     },
     "execution_count": 72,
     "metadata": {},
     "output_type": "execute_result"
    }
   ],
   "source": [
    "arr=np.arange(90).reshape(9,2,5)\n",
    "arr"
   ]
  },
  {
   "cell_type": "code",
   "execution_count": 74,
   "id": "672422b8-d3ba-4df9-b9af-4baf6768c5a3",
   "metadata": {},
   "outputs": [
    {
     "data": {
      "text/plain": [
       "3"
      ]
     },
     "execution_count": 74,
     "metadata": {},
     "output_type": "execute_result"
    }
   ],
   "source": [
    "arr.ndim"
   ]
  },
  {
   "cell_type": "code",
   "execution_count": 76,
   "id": "f6190efc-422b-49b9-823e-19950e166911",
   "metadata": {},
   "outputs": [
    {
     "data": {
      "text/plain": [
       "(9, 2, 5)"
      ]
     },
     "execution_count": 76,
     "metadata": {},
     "output_type": "execute_result"
    }
   ],
   "source": [
    "arr.shape"
   ]
  },
  {
   "cell_type": "code",
   "execution_count": 78,
   "id": "94f292f1-7ba8-4564-9930-387ed571a3bb",
   "metadata": {},
   "outputs": [
    {
     "data": {
      "text/plain": [
       "dtype('int64')"
      ]
     },
     "execution_count": 78,
     "metadata": {},
     "output_type": "execute_result"
    }
   ],
   "source": [
    "arr.dtype"
   ]
  },
  {
   "cell_type": "code",
   "execution_count": 80,
   "id": "afd15580-9341-4164-b6b2-765b510c1bb3",
   "metadata": {},
   "outputs": [
    {
     "data": {
      "text/plain": [
       "array([7, 6])"
      ]
     },
     "execution_count": 80,
     "metadata": {},
     "output_type": "execute_result"
    }
   ],
   "source": [
    "arr[0][1][2:0:-1]"
   ]
  },
  {
   "cell_type": "code",
   "execution_count": 82,
   "id": "0ec76bbe-8366-4825-a994-edad66bd4fd3",
   "metadata": {},
   "outputs": [
    {
     "data": {
      "text/plain": [
       "array([], dtype=int64)"
      ]
     },
     "execution_count": 82,
     "metadata": {},
     "output_type": "execute_result"
    }
   ],
   "source": [
    "arr[0][1][2:9:-1]"
   ]
  },
  {
   "cell_type": "code",
   "execution_count": 84,
   "id": "5dec4718-abf0-4d82-9d74-2330cdcef934",
   "metadata": {},
   "outputs": [],
   "source": [
    "arr=np.array([[[2,3,4],[5,6,7],[8,9,1]]])"
   ]
  },
  {
   "cell_type": "code",
   "execution_count": 86,
   "id": "c60521a7-7daf-4ec6-a834-35c98cd652cf",
   "metadata": {},
   "outputs": [
    {
     "data": {
      "text/plain": [
       "array([[[2, 3, 4],\n",
       "        [5, 6, 7],\n",
       "        [8, 9, 1]]])"
      ]
     },
     "execution_count": 86,
     "metadata": {},
     "output_type": "execute_result"
    }
   ],
   "source": [
    "arr"
   ]
  },
  {
   "cell_type": "code",
   "execution_count": 88,
   "id": "1551311c-77d2-48f9-a4ff-e0528559d2fe",
   "metadata": {},
   "outputs": [
    {
     "data": {
      "text/plain": [
       "(1, 3, 3)"
      ]
     },
     "execution_count": 88,
     "metadata": {},
     "output_type": "execute_result"
    }
   ],
   "source": [
    "arr.shape"
   ]
  },
  {
   "cell_type": "code",
   "execution_count": 90,
   "id": "e875705d-74b1-4f2d-beb8-883bf68eeb01",
   "metadata": {},
   "outputs": [
    {
     "data": {
      "text/plain": [
       "3"
      ]
     },
     "execution_count": 90,
     "metadata": {},
     "output_type": "execute_result"
    }
   ],
   "source": [
    "arr.ndim"
   ]
  },
  {
   "cell_type": "code",
   "execution_count": null,
   "id": "f5215862-5c11-43bd-9fb9-f4d10ca3541e",
   "metadata": {},
   "outputs": [],
   "source": []
  }
 ],
 "metadata": {
  "kernelspec": {
   "display_name": "Python 3",
   "language": "python",
   "name": "python3"
  },
  "language_info": {
   "codemirror_mode": {
    "name": "ipython",
    "version": 3
   },
   "file_extension": ".py",
   "mimetype": "text/x-python",
   "name": "python",
   "nbconvert_exporter": "python",
   "pygments_lexer": "ipython3",
   "version": "3.12.4"
  }
 },
 "nbformat": 4,
 "nbformat_minor": 5
}
